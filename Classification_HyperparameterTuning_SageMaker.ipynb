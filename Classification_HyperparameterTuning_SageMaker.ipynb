{
 "cells": [
  {
   "cell_type": "markdown",
   "metadata": {},
   "source": [
    "# Linear Learner with HPO"
   ]
  },
  {
   "cell_type": "code",
   "execution_count": 9,
   "metadata": {},
   "outputs": [
    {
     "name": "stderr",
     "output_type": "stream",
     "text": [
      "'get_image_uri' method will be deprecated in favor of 'ImageURIProvider' class in SageMaker Python SDK v2.\n",
      "Parameter image_name will be renamed to image_uri in SageMaker Python SDK v2.\n"
     ]
    }
   ],
   "source": [
    "import sagemaker\n",
    "import boto3\n",
    "from sagemaker.amazon.amazon_estimator import get_image_uri \n",
    "from sagemaker.session import s3_input, Session\n",
    "\n",
    "ll_container =  get_image_uri(boto3.Session().region_name,\n",
    "                          'linear-learner')\n",
    "\n",
    "# initialize hyperparameters\n",
    "hyperparameters = {\n",
    "        \"predictor_type\":\"multiclass_classifier\",\n",
    "        \"num_classes\": \"3\"     }\n",
    "\n",
    "bucket = \"preshen-sagemaker\"\n",
    "prefix = \"tuning-lab\"\n",
    "\n",
    "output_path = \"s3://{}/{}/{}/\".format(bucket, prefix, 'output')\n",
    "ll_estimator = sagemaker.estimator.Estimator(image_name=ll_container, \n",
    "                                          role=sagemaker.get_execution_role(),\n",
    "                                          hyperparameters=hyperparameters,\n",
    "                                          train_instance_count=1, \n",
    "                                          train_instance_type='ml.m5.xlarge', \n",
    "                                          train_volume_size=5, # 5 GB \n",
    "                                          output_path=output_path)"
   ]
  },
  {
   "cell_type": "code",
   "execution_count": 17,
   "metadata": {},
   "outputs": [
    {
     "name": "stderr",
     "output_type": "stream",
     "text": [
      "'s3_input' class will be renamed to 'TrainingInput' in SageMaker Python SDK v2.\n",
      "'s3_input' class will be renamed to 'TrainingInput' in SageMaker Python SDK v2.\n"
     ]
    }
   ],
   "source": [
    "# define the data type and paths to the training and validation datasets\n",
    "\n",
    "prefix = \"algorithm-lab\"\n",
    "\n",
    "\n",
    "content_type = \"text/csv\"\n",
    "train_input = s3_input(\"s3://{}/{}/{}/\".format(bucket, prefix, 'train'), content_type=content_type)\n",
    "validation_input = s3_input(\"s3://{}/{}/{}/\".format(bucket, prefix, 'validation'), content_type=content_type)\n"
   ]
  },
  {
   "cell_type": "code",
   "execution_count": 18,
   "metadata": {},
   "outputs": [],
   "source": [
    "from sagemaker.tuner import IntegerParameter, CategoricalParameter, ContinuousParameter, HyperparameterTuner\n",
    "\n",
    "\n",
    "hyperparameter_ranges_linear = {\n",
    "    'l1': ContinuousParameter(0.000001, 1, scaling_type=\"Linear\"),\n",
    "    'learning_rate': ContinuousParameter(0.00001, 1, scaling_type=\"Linear\"),\n",
    "    'mini_batch_size': IntegerParameter(100,5000),\n",
    "    'use_bias': CategoricalParameter([True, False]),\n",
    "    'positive_example_weight_mult': ContinuousParameter(0.0001, 10)\n",
    "}\n"
   ]
  },
  {
   "cell_type": "code",
   "execution_count": 19,
   "metadata": {},
   "outputs": [],
   "source": [
    "objective_metric_name= 'validation:multiclass_accuracy'"
   ]
  },
  {
   "cell_type": "code",
   "execution_count": 20,
   "metadata": {},
   "outputs": [],
   "source": [
    "tuner_linear = HyperparameterTuner(\n",
    "    ll_estimator,\n",
    "    objective_metric_name,\n",
    "    hyperparameter_ranges_linear,\n",
    "    max_jobs=50,\n",
    "    max_parallel_jobs=10,\n",
    "    strategy='Bayesian'\n",
    ")"
   ]
  },
  {
   "cell_type": "code",
   "execution_count": 21,
   "metadata": {},
   "outputs": [],
   "source": [
    "tuner_linear.fit({'train': train_input, 'validation': validation_input}, include_cls_metadata=False)"
   ]
  }
 ],
 "metadata": {
  "kernelspec": {
   "display_name": "conda_python3",
   "language": "python",
   "name": "conda_python3"
  },
  "language_info": {
   "codemirror_mode": {
    "name": "ipython",
    "version": 3
   },
   "file_extension": ".py",
   "mimetype": "text/x-python",
   "name": "python",
   "nbconvert_exporter": "python",
   "pygments_lexer": "ipython3",
   "version": "3.6.10"
  }
 },
 "nbformat": 4,
 "nbformat_minor": 4
}
