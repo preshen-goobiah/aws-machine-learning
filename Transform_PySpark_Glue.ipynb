{
 "cells": [
  {
   "cell_type": "code",
   "execution_count": 1,
   "metadata": {},
   "outputs": [
    {
     "name": "stdout",
     "output_type": "stream",
     "text": [
      "Starting Spark application\n"
     ]
    },
    {
     "data": {
      "text/html": [
       "<table>\n",
       "<tr><th>ID</th><th>YARN Application ID</th><th>Kind</th><th>State</th><th>Spark UI</th><th>Driver log</th><th>Current session?</th></tr><tr><td>0</td><td>application_1604422179291_0001</td><td>pyspark</td><td>idle</td><td><a target=\"_blank\" href=\"http://ip-172-31-52-204.eu-west-1.compute.internal:20888/proxy/application_1604422179291_0001/\">Link</a></td><td><a target=\"_blank\" href=\"http://ip-172-31-50-29.eu-west-1.compute.internal:8042/node/containerlogs/container_1604422179291_0001_01_000001/livy\">Link</a></td><td>✔</td></tr></table>"
      ],
      "text/plain": [
       "<IPython.core.display.HTML object>"
      ]
     },
     "metadata": {},
     "output_type": "display_data"
    },
    {
     "data": {
      "application/vnd.jupyter.widget-view+json": {
       "model_id": "",
       "version_major": 2,
       "version_minor": 0
      },
      "text/plain": [
       "FloatProgress(value=0.0, bar_style='info', description='Progress:', layout=Layout(height='25px', width='50%'),…"
      ]
     },
     "metadata": {},
     "output_type": "display_data"
    },
    {
     "name": "stdout",
     "output_type": "stream",
     "text": [
      "SparkSession available as 'spark'.\n"
     ]
    },
    {
     "data": {
      "application/vnd.jupyter.widget-view+json": {
       "model_id": "",
       "version_major": 2,
       "version_minor": 0
      },
      "text/plain": [
       "FloatProgress(value=0.0, bar_style='info', description='Progress:', layout=Layout(height='25px', width='50%'),…"
      ]
     },
     "metadata": {},
     "output_type": "display_data"
    }
   ],
   "source": [
    "import sys\n",
    "from awsglue.transforms import *\n",
    "from awsglue.utils import getResolvedOptions\n",
    "from pyspark.context import SparkContext\n",
    "from awsglue.context import GlueContext\n",
    "from awsglue.job import Job\n",
    "\n",
    "glueContext = GlueContext(SparkContext.getOrCreate())"
   ]
  },
  {
   "cell_type": "code",
   "execution_count": 87,
   "metadata": {},
   "outputs": [
    {
     "data": {
      "application/vnd.jupyter.widget-view+json": {
       "model_id": "",
       "version_major": 2,
       "version_minor": 0
      },
      "text/plain": [
       "FloatProgress(value=0.0, bar_style='info', description='Progress:', layout=Layout(height='25px', width='50%'),…"
      ]
     },
     "metadata": {},
     "output_type": "display_data"
    }
   ],
   "source": [
    "users = glueContext.create_dynamic_frame.from_catalog(database=\"default\", table_name=\"userdatamlcertfinal_user_data_kinesis_firehouse2020\", encoding=\"utf-8\")"
   ]
  },
  {
   "cell_type": "code",
   "execution_count": 92,
   "metadata": {},
   "outputs": [
    {
     "data": {
      "application/vnd.jupyter.widget-view+json": {
       "model_id": "",
       "version_major": 2,
       "version_minor": 0
      },
      "text/plain": [
       "FloatProgress(value=0.0, bar_style='info', description='Progress:', layout=Layout(height='25px', width='50%'),…"
      ]
     },
     "metadata": {},
     "output_type": "display_data"
    },
    {
     "name": "stdout",
     "output_type": "stream",
     "text": [
      "Count:  5148\n",
      "root\n",
      "|-- FIRST: string\n",
      "|-- LAST: string\n",
      "|-- AGE: int\n",
      "|-- GENDER: string\n",
      "|-- LATITUDE: string\n",
      "|-- LONGITUDE: string\n",
      "|-- partition_0: string\n",
      "|-- partition_1: string\n",
      "|-- partition_2: string"
     ]
    }
   ],
   "source": [
    "print(\"Count: \", users.count())\n",
    "users.printSchema()\n"
   ]
  },
  {
   "cell_type": "code",
   "execution_count": 95,
   "metadata": {},
   "outputs": [
    {
     "data": {
      "application/vnd.jupyter.widget-view+json": {
       "model_id": "",
       "version_major": 2,
       "version_minor": 0
      },
      "text/plain": [
       "FloatProgress(value=0.0, bar_style='info', description='Progress:', layout=Layout(height='25px', width='50%'),…"
      ]
     },
     "metadata": {},
     "output_type": "display_data"
    },
    {
     "name": "stdout",
     "output_type": "stream",
     "text": [
      "<awsglue.dynamicframe.DynamicFrame object at 0x7fe81cd87ac8>"
     ]
    }
   ],
   "source": [
    "print(users)"
   ]
  },
  {
   "cell_type": "code",
   "execution_count": 89,
   "metadata": {},
   "outputs": [
    {
     "data": {
      "application/vnd.jupyter.widget-view+json": {
       "model_id": "",
       "version_major": 2,
       "version_minor": 0
      },
      "text/plain": [
       "FloatProgress(value=0.0, bar_style='info', description='Progress:', layout=Layout(height='25px', width='50%'),…"
      ]
     },
     "metadata": {},
     "output_type": "display_data"
    },
    {
     "name": "stdout",
     "output_type": "stream",
     "text": [
      "+-------+-------+---+------+--------+---------+-----------+-----------+-----------+\n",
      "|  FIRST|   LAST|AGE|GENDER|LATITUDE|LONGITUDE|partition_0|partition_1|partition_2|\n",
      "+-------+-------+---+------+--------+---------+-----------+-----------+-----------+\n",
      "|   النا|  یاسمی| 34|female| 33.6251| 177.8837|         11|         03|         16|\n",
      "|Hüseyin| Pierre| 24|  male|-52.8681|-168.2833|         11|         03|         16|\n",
      "|  Cesar|    Gil| 65|  male|-25.3485| -35.4932|         11|         03|         16|\n",
      "|  Begüm|Tunçeri| 38|female| 74.5838| 128.9262|         11|         03|         16|\n",
      "|Hüseyin| Pierre| 24|  male|-52.8681|-168.2833|         11|         03|         16|\n",
      "|  Cesar|    Gil| 65|  male|-25.3485| -35.4932|         11|         03|         16|\n",
      "|   النا|  یاسمی| 34|female| 33.6251| 177.8837|         11|         03|         16|\n",
      "|  Begüm|Tunçeri| 38|female| 74.5838| 128.9262|         11|         03|         16|\n",
      "|  Cesar|    Gil| 65|  male|-25.3485| -35.4932|         11|         03|         16|\n",
      "|Hüseyin| Pierre| 24|  male|-52.8681|-168.2833|         11|         03|         16|\n",
      "|   النا|  یاسمی| 34|female| 33.6251| 177.8837|         11|         03|         16|\n",
      "|  Cesar|    Gil| 65|  male|-25.3485| -35.4932|         11|         03|         16|\n",
      "|  Begüm|Tunçeri| 38|female| 74.5838| 128.9262|         11|         03|         16|\n",
      "|   النا|  یاسمی| 34|female| 33.6251| 177.8837|         11|         03|         16|\n",
      "|Hüseyin| Pierre| 24|  male|-52.8681|-168.2833|         11|         03|         16|\n",
      "|  Begüm|Tunçeri| 38|female| 74.5838| 128.9262|         11|         03|         16|\n",
      "|  Cesar|    Gil| 65|  male|-25.3485| -35.4932|         11|         03|         16|\n",
      "|Hüseyin| Pierre| 24|  male|-52.8681|-168.2833|         11|         03|         16|\n",
      "|   النا|  یاسمی| 34|female| 33.6251| 177.8837|         11|         03|         16|\n",
      "|  Cesar|    Gil| 65|  male|-25.3485| -35.4932|         11|         03|         16|\n",
      "+-------+-------+---+------+--------+---------+-----------+-----------+-----------+\n",
      "only showing top 20 rows"
     ]
    }
   ],
   "source": [
    "users_df = users.toDF()\n",
    "users_df.show"
   ]
  },
  {
   "cell_type": "code",
   "execution_count": 37,
   "metadata": {},
   "outputs": [
    {
     "data": {
      "application/vnd.jupyter.widget-view+json": {
       "model_id": "",
       "version_major": 2,
       "version_minor": 0
      },
      "text/plain": [
       "FloatProgress(value=0.0, bar_style='info', description='Progress:', layout=Layout(height='25px', width='50%'),…"
      ]
     },
     "metadata": {},
     "output_type": "display_data"
    },
    {
     "name": "stdout",
     "output_type": "stream",
     "text": [
      "Percentage Males:  50.39 %\n",
      "Percentage Females:  49.61 %"
     ]
    }
   ],
   "source": [
    "num_males = users_df.where(\"GENDER = 'male'\").count()\n",
    "num_females = users_df.where(\"GENDER = 'female'\").count()\n",
    "num_total = users_df.count()\n",
    "\n",
    "print(\"Percentage Males: \", str(round((num_males/num_total)*100, 2)), \"%\")\n",
    "print(\"Percentage Females: \", str(round((num_females/num_total)*100, 2)), \"%\")"
   ]
  },
  {
   "cell_type": "code",
   "execution_count": 48,
   "metadata": {},
   "outputs": [
    {
     "data": {
      "application/vnd.jupyter.widget-view+json": {
       "model_id": "",
       "version_major": 2,
       "version_minor": 0
      },
      "text/plain": [
       "FloatProgress(value=0.0, bar_style='info', description='Progress:', layout=Layout(height='25px', width='50%'),…"
      ]
     },
     "metadata": {},
     "output_type": "display_data"
    },
    {
     "name": "stdout",
     "output_type": "stream",
     "text": [
      "Top 5 Ages\n",
      "+---+-----+\n",
      "|AGE|count|\n",
      "+---+-----+\n",
      "| 24| 1233|\n",
      "| 34| 1230|\n",
      "| 65| 1225|\n",
      "| 38| 1206|\n",
      "| 67|   12|\n",
      "+---+-----+\n",
      "only showing top 5 rows"
     ]
    }
   ],
   "source": [
    "print(\"Top 5 Ages\")\n",
    "users_df.groupBy(\"AGE\").count().orderBy(\"count\", ascending=False).show(5)"
   ]
  },
  {
   "cell_type": "code",
   "execution_count": 69,
   "metadata": {},
   "outputs": [
    {
     "data": {
      "application/vnd.jupyter.widget-view+json": {
       "model_id": "",
       "version_major": 2,
       "version_minor": 0
      },
      "text/plain": [
       "FloatProgress(value=0.0, bar_style='info', description='Progress:', layout=Layout(height='25px', width='50%'),…"
      ]
     },
     "metadata": {},
     "output_type": "display_data"
    },
    {
     "name": "stdout",
     "output_type": "stream",
     "text": [
      "Age bins by decades up to 100\n",
      "+-------+-----+\n",
      "|AGE_BIN|count|\n",
      "+-------+-----+\n",
      "|    3.0| 2469|\n",
      "|    2.0| 1276|\n",
      "|    6.0| 1272|\n",
      "|    5.0|   51|\n",
      "|    4.0|   50|\n",
      "|    7.0|   30|\n",
      "+-------+-----+"
     ]
    }
   ],
   "source": [
    "print(\"Age bins by decades up to 100\")\n",
    "\n",
    "from pyspark.ml.feature import Bucketizer\n",
    "bucketizer  =  Bucketizer().setInputCol(\"AGE\").setOutputCol(\"AGE_BIN\").setSplits((0, 10, 20, 30, 40, 50, 60, 70, 80, 90, 100 ))\n",
    "\n",
    "binned_data = bucketizer.transform(users_df)\n",
    "\n",
    "binned_data.groupBy(\"AGE_BIN\").count().orderBy(\"count\", ascending=False).show()"
   ]
  },
  {
   "cell_type": "code",
   "execution_count": 85,
   "metadata": {},
   "outputs": [
    {
     "data": {
      "application/vnd.jupyter.widget-view+json": {
       "model_id": "",
       "version_major": 2,
       "version_minor": 0
      },
      "text/plain": [
       "FloatProgress(value=0.0, bar_style='info', description='Progress:', layout=Layout(height='25px', width='50%'),…"
      ]
     },
     "metadata": {},
     "output_type": "display_data"
    },
    {
     "name": "stdout",
     "output_type": "stream",
     "text": [
      "Transform Gender to Binary using String Indexer\n",
      "+-------+-------+---+--------+---------+-------------+\n",
      "|  FIRST|   LAST|AGE|LATITUDE|LONGITUDE|BINARY_GENDER|\n",
      "+-------+-------+---+--------+---------+-------------+\n",
      "|   النا|  یاسمی| 34| 33.6251| 177.8837|          1.0|\n",
      "|Hüseyin| Pierre| 24|-52.8681|-168.2833|          0.0|\n",
      "|  Cesar|    Gil| 65|-25.3485| -35.4932|          0.0|\n",
      "|  Begüm|Tunçeri| 38| 74.5838| 128.9262|          1.0|\n",
      "|Hüseyin| Pierre| 24|-52.8681|-168.2833|          0.0|\n",
      "|  Cesar|    Gil| 65|-25.3485| -35.4932|          0.0|\n",
      "|   النا|  یاسمی| 34| 33.6251| 177.8837|          1.0|\n",
      "|  Begüm|Tunçeri| 38| 74.5838| 128.9262|          1.0|\n",
      "|  Cesar|    Gil| 65|-25.3485| -35.4932|          0.0|\n",
      "|Hüseyin| Pierre| 24|-52.8681|-168.2833|          0.0|\n",
      "|   النا|  یاسمی| 34| 33.6251| 177.8837|          1.0|\n",
      "|  Cesar|    Gil| 65|-25.3485| -35.4932|          0.0|\n",
      "|  Begüm|Tunçeri| 38| 74.5838| 128.9262|          1.0|\n",
      "|   النا|  یاسمی| 34| 33.6251| 177.8837|          1.0|\n",
      "|Hüseyin| Pierre| 24|-52.8681|-168.2833|          0.0|\n",
      "|  Begüm|Tunçeri| 38| 74.5838| 128.9262|          1.0|\n",
      "|  Cesar|    Gil| 65|-25.3485| -35.4932|          0.0|\n",
      "|Hüseyin| Pierre| 24|-52.8681|-168.2833|          0.0|\n",
      "|   النا|  یاسمی| 34| 33.6251| 177.8837|          1.0|\n",
      "|  Cesar|    Gil| 65|-25.3485| -35.4932|          0.0|\n",
      "+-------+-------+---+--------+---------+-------------+\n",
      "only showing top 20 rows"
     ]
    }
   ],
   "source": [
    "print(\"Transform Gender to Binary using String Indexer\")\n",
    "\n",
    "from pyspark.ml.feature import StringIndexer\n",
    "\n",
    "string_indexer = StringIndexer().setInputCol(\"GENDER\").setOutputCol(\"BINARY_GENDER\")\n",
    "\n",
    "indexed_gender_user_df = string_indexer.fit(users_df).transform(users_df)\n",
    "\n",
    "indexed_gender_user_df = indexed_gender_user_df.drop(\"GENDER\", \"partition_0\", \"partition_1\", \"partition_2\")\n",
    "indexed_gender_user_df.show()"
   ]
  },
  {
   "cell_type": "code",
   "execution_count": 86,
   "metadata": {},
   "outputs": [
    {
     "data": {
      "application/vnd.jupyter.widget-view+json": {
       "model_id": "",
       "version_major": 2,
       "version_minor": 0
      },
      "text/plain": [
       "FloatProgress(value=0.0, bar_style='info', description='Progress:', layout=Layout(height='25px', width='50%'),…"
      ]
     },
     "metadata": {},
     "output_type": "display_data"
    },
    {
     "name": "stdout",
     "output_type": "stream",
     "text": [
      "Writing Spark df to CSV in S3"
     ]
    }
   ],
   "source": [
    "print(\"Writing Spark df to CSV in S3\")\n",
    "\n",
    "indexed_gender_user_df.write.csv(\"s3://preshen-sagemaker-sme-project/transformed-user-data-spark-csv\", header=True)"
   ]
  }
 ],
 "metadata": {
  "kernelspec": {
   "display_name": "Sparkmagic (PySpark)",
   "language": "",
   "name": "pysparkkernel"
  },
  "language_info": {
   "codemirror_mode": {
    "name": "python",
    "version": 3
   },
   "mimetype": "text/x-python",
   "name": "pyspark",
   "pygments_lexer": "python3"
  }
 },
 "nbformat": 4,
 "nbformat_minor": 4
}
