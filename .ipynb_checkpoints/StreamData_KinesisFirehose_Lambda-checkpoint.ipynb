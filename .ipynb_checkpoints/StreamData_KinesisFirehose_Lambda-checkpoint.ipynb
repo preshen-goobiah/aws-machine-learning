{
 "cells": [
  {
   "cell_type": "code",
   "execution_count": 52,
   "metadata": {},
   "outputs": [
    {
     "data": {
      "text/plain": [
       "'{\"gender\": \"male\", \"name\": {\"title\": \"Mr\", \"first\": \"Isa\\\\u00ef\", \"last\": \"Van Zoeren\"}, \"location\": {\"street\": {\"number\": 7471, \"name\": \"Burgemeester Hovylaan\"}, \"city\": \"Dreumel\", \"state\": \"Friesland\", \"country\": \"Netherlands\", \"postcode\": 66274, \"coordinates\": {\"latitude\": \"-36.9535\", \"longitude\": \"-142.7366\"}, \"timezone\": {\"offset\": \"+8:00\", \"description\": \"Beijing, Perth, Singapore, Hong Kong\"}}, \"email\": \"isai.vanzoeren@example.com\", \"login\": {\"uuid\": \"8f909e2d-4c20-4a3d-a1e6-7bef7c1ad3b0\", \"username\": \"bluelion673\", \"password\": \"pigeon\", \"salt\": \"OwtEC53x\", \"md5\": \"c93e0b3334899cba1b89f5930b89858a\", \"sha1\": \"c2033fef5fcd48052c55487224d5b2f60dd90761\", \"sha256\": \"92564f84c199530c6ee60031b037e97078119b7aa717fed3bffc9d2b9b3a0a1b\"}, \"dob\": {\"date\": \"1982-09-18T21:17:48.395Z\", \"age\": 38}, \"registered\": {\"date\": \"2013-09-16T03:14:45.200Z\", \"age\": 7}, \"phone\": \"(598)-489-6458\", \"cell\": \"(901)-544-3625\", \"id\": {\"name\": \"BSN\", \"value\": \"82429664\"}, \"picture\": {\"large\": \"https://randomuser.me/api/portraits/men/7.jpg\", \"medium\": \"https://randomuser.me/api/portraits/med/men/7.jpg\", \"thumbnail\": \"https://randomuser.me/api/portraits/thumb/men/7.jpg\"}, \"nat\": \"NL\"}'"
      ]
     },
     "execution_count": 52,
     "metadata": {},
     "output_type": "execute_result"
    }
   ],
   "source": [
    "import requests\n",
    "\n",
    "def get_user():\n",
    "    r = requests.get('https://randomuser.me/api/?results=3')\n",
    "    user= r.json()['results'][2]\n",
    "    return user\n",
    "\n",
    "user = get_user()\n",
    "json_user = json.dumps(user)\n",
    "json_user"
   ]
  },
  {
   "cell_type": "code",
   "execution_count": 53,
   "metadata": {},
   "outputs": [
    {
     "name": "stdout",
     "output_type": "stream",
     "text": [
      "b'eyJnZW5kZXIiOiAibWFsZSIsICJuYW1lIjogeyJ0aXRsZSI6ICJNciIsICJmaXJzdCI6ICJJc2FcdTAwZWYiLCAibGFzdCI6ICJWYW4gWm9lcmVuIn0sICJsb2NhdGlvbiI6IHsic3RyZWV0IjogeyJudW1iZXIiOiA3NDcxLCAibmFtZSI6ICJCdXJnZW1lZXN0ZXIgSG92eWxhYW4ifSwgImNpdHkiOiAiRHJldW1lbCIsICJzdGF0ZSI6ICJGcmllc2xhbmQiLCAiY291bnRyeSI6ICJOZXRoZXJsYW5kcyIsICJwb3N0Y29kZSI6IDY2Mjc0LCAiY29vcmRpbmF0ZXMiOiB7ImxhdGl0dWRlIjogIi0zNi45NTM1IiwgImxvbmdpdHVkZSI6ICItMTQyLjczNjYifSwgInRpbWV6b25lIjogeyJvZmZzZXQiOiAiKzg6MDAiLCAiZGVzY3JpcHRpb24iOiAiQmVpamluZywgUGVydGgsIFNpbmdhcG9yZSwgSG9uZyBLb25nIn19LCAiZW1haWwiOiAiaXNhaS52YW56b2VyZW5AZXhhbXBsZS5jb20iLCAibG9naW4iOiB7InV1aWQiOiAiOGY5MDllMmQtNGMyMC00YTNkLWExZTYtN2JlZjdjMWFkM2IwIiwgInVzZXJuYW1lIjogImJsdWVsaW9uNjczIiwgInBhc3N3b3JkIjogInBpZ2VvbiIsICJzYWx0IjogIk93dEVDNTN4IiwgIm1kNSI6ICJjOTNlMGIzMzM0ODk5Y2JhMWI4OWY1OTMwYjg5ODU4YSIsICJzaGExIjogImMyMDMzZmVmNWZjZDQ4MDUyYzU1NDg3MjI0ZDViMmY2MGRkOTA3NjEiLCAic2hhMjU2IjogIjkyNTY0Zjg0YzE5OTUzMGM2ZWU2MDAzMWIwMzdlOTcwNzgxMTliN2FhNzE3ZmVkM2JmZmM5ZDJiOWIzYTBhMWIifSwgImRvYiI6IHsiZGF0ZSI6ICIxOTgyLTA5LTE4VDIxOjE3OjQ4LjM5NVoiLCAiYWdlIjogMzh9LCAicmVnaXN0ZXJlZCI6IHsiZGF0ZSI6ICIyMDEzLTA5LTE2VDAzOjE0OjQ1LjIwMFoiLCAiYWdlIjogN30sICJwaG9uZSI6ICIoNTk4KS00ODktNjQ1OCIsICJjZWxsIjogIig5MDEpLTU0NC0zNjI1IiwgImlkIjogeyJuYW1lIjogIkJTTiIsICJ2YWx1ZSI6ICI4MjQyOTY2NCJ9LCAicGljdHVyZSI6IHsibGFyZ2UiOiAiaHR0cHM6Ly9yYW5kb211c2VyLm1lL2FwaS9wb3J0cmFpdHMvbWVuLzcuanBnIiwgIm1lZGl1bSI6ICJodHRwczovL3JhbmRvbXVzZXIubWUvYXBpL3BvcnRyYWl0cy9tZWQvbWVuLzcuanBnIiwgInRodW1ibmFpbCI6ICJodHRwczovL3JhbmRvbXVzZXIubWUvYXBpL3BvcnRyYWl0cy90aHVtYi9tZW4vNy5qcGcifSwgIm5hdCI6ICJOTCJ9'\n",
      "{'gender': 'male', 'name': {'title': 'Mr', 'first': 'Isaï', 'last': 'Van Zoeren'}, 'location': {'street': {'number': 7471, 'name': 'Burgemeester Hovylaan'}, 'city': 'Dreumel', 'state': 'Friesland', 'country': 'Netherlands', 'postcode': 66274, 'coordinates': {'latitude': '-36.9535', 'longitude': '-142.7366'}, 'timezone': {'offset': '+8:00', 'description': 'Beijing, Perth, Singapore, Hong Kong'}}, 'email': 'isai.vanzoeren@example.com', 'login': {'uuid': '8f909e2d-4c20-4a3d-a1e6-7bef7c1ad3b0', 'username': 'bluelion673', 'password': 'pigeon', 'salt': 'OwtEC53x', 'md5': 'c93e0b3334899cba1b89f5930b89858a', 'sha1': 'c2033fef5fcd48052c55487224d5b2f60dd90761', 'sha256': '92564f84c199530c6ee60031b037e97078119b7aa717fed3bffc9d2b9b3a0a1b'}, 'dob': {'date': '1982-09-18T21:17:48.395Z', 'age': 38}, 'registered': {'date': '2013-09-16T03:14:45.200Z', 'age': 7}, 'phone': '(598)-489-6458', 'cell': '(901)-544-3625', 'id': {'name': 'BSN', 'value': '82429664'}, 'picture': {'large': 'https://randomuser.me/api/portraits/men/7.jpg', 'medium': 'https://randomuser.me/api/portraits/med/men/7.jpg', 'thumbnail': 'https://randomuser.me/api/portraits/thumb/men/7.jpg'}, 'nat': 'NL'}\n",
      "<class 'dict'>\n"
     ]
    }
   ],
   "source": [
    "import base64\n",
    "import json \n",
    "\n",
    "str_user = str(json_user)\n",
    "utf8_user = str_user.encode('utf-8')\n",
    "\n",
    "b64_user= base64.b64encode(utf8_user)\n",
    "print(b64_user)\n",
    "\n",
    "user_dict = json.loads(base64.b64decode(b64_user).decode('utf-8'))\n",
    "\n",
    "print(user_dict)\n",
    "print(type(user_dict))"
   ]
  },
  {
   "cell_type": "code",
   "execution_count": 62,
   "metadata": {},
   "outputs": [
    {
     "data": {
      "text/plain": [
       "{'FIRST': 'XX',\n",
       " 'LAST': '',\n",
       " 'AGE': '',\n",
       " 'GENDER': '',\n",
       " 'LATITUDE': '',\n",
       " 'LONGITUDE': ''}"
      ]
     },
     "execution_count": 62,
     "metadata": {},
     "output_type": "execute_result"
    }
   ],
   "source": [
    "final_user_dict = {\"FIRST\": \"\", \"LAST\": \"\", \"AGE\": \"\", \"GENDER\": \"\", \"LATITUDE\": \"\", \"LONGITUDE\": \"\"}\n",
    "final_user_dict[\"FIRST\"] = \"XX\"\n",
    "final_user_dict"
   ]
  },
  {
   "cell_type": "code",
   "execution_count": 54,
   "metadata": {},
   "outputs": [],
   "source": [
    "import boto3 \n",
    "import time\n",
    "\n",
    "firehose_name = \"stream-marketing-users\"\n",
    "firehose_client  = boto3.client('firehose')\n",
    "result = firehose_client.describe_delivery_stream(DeliveryStreamName=firehose_name)\n",
    "\n",
    "line = \"testing from python\"\n",
    "\n",
    "for i in range(0,100):\n",
    "    time.sleep(0.01)\n",
    "    firehose_client.put_record(DeliveryStreamName=firehose_name,\n",
    "                                           Record={'Data': str_user})"
   ]
  },
  {
   "cell_type": "code",
   "execution_count": 17,
   "metadata": {},
   "outputs": [
    {
     "data": {
      "text/plain": [
       "dict"
      ]
     },
     "execution_count": 17,
     "metadata": {},
     "output_type": "execute_result"
    }
   ],
   "source": [
    "{\"gender\": \"female\", \n",
    " \"name\": {\"title\": \"Miss\", \"first\": \"Annabell\", \"last\": \"Ekeland\"}, \n",
    " \"location\": {\"street\": {\"number\": 723, \"name\": \"Sem Sælands vei\"}, \n",
    "  \"city\": \"Bekkelaget\", \"state\": \"Vest-Agder\", \"country\": \"Norway\", \n",
    "    \"postcode\": \"6166\", \"coordinates\": {\"latitude\": \"50.8498\", \"longitude\": \"21.0506\"}, \n",
    "    \"timezone\": {\"offset\": \"-5:00\", \"description\": \"Eastern Time (US & Canada), Bogota, Lima\"}}, \n",
    " \"email\": \"annabell.ekeland@example.com\", \"login\": {\"uuid\": \"12031b0e-4879-42fb-811c-b9d33ddd1391\", \n",
    "    \"username\": \"silverpeacock661\", \"password\": \"alyssa\", \"salt\": \"FDKj8QVe\", \"md5\": \"56a9046531dafc18135c600592c6a9ad\", \"sha1\": \"3d92c45b89b790bd638785c1022577853c697894\", \"sha256\": \"56b49be8493ec4b4f45ffec048be8d20f71d9c1ae9081c1daec651fcf37515bf\"}, \"dob\": {\"date\": \"1988-11-11T17:42:09.856Z\", \"age\": 32}, \n",
    " \"registered\": {\"date\": \"2005-09-09T16:05:13.085Z\", \"age\": 15}, \"phone\": \"88802508\", \"cell\": \"90814066\", \"id\": {\"name\": \"FN\", \"value\": \"11118801239\"}, \"picture\": {\"large\": \"https://randomuser.me/api/portraits/women/21.jpg\", \"medium\": \"https://randomuser.me/api/portraits/med/women/21.jpg\", \"thumbnail\": \"https://randomuser.me/api/portraits/thumb/women/21.jpg\"}, \n",
    " \"nat\": \"NO\"}')\n",
    "type(user_dict)"
   ]
  },
  {
   "cell_type": "code",
   "execution_count": 9,
   "metadata": {},
   "outputs": [
    {
     "name": "stdout",
     "output_type": "stream",
     "text": [
      "start test = 2020-10-29 20:31:41.396461\n",
      "end test = 2020-10-29 20:31:41.396461\n"
     ]
    }
   ],
   "source": [
    "import multiprocessing\n",
    "import time\n",
    "from datetime import date\n",
    "\n",
    "from datetime import datetime\n",
    "\n",
    "# datetime object containing current date and time\n",
    "now = datetime.now()\n",
    " \n",
    "print(\"start test =\", now)\n",
    "\n",
    "\n",
    "def worker():\n",
    "    for i in range(10):\n",
    "        time.sleep(0.01)\n",
    "        firehose_client.put_record(DeliveryStreamName=firehose_name,\n",
    "                                           Record={'Data': base64_dict})\n",
    "    return\n",
    "\n",
    "jobs = []\n",
    "for i in range(100):\n",
    "    p = multiprocessing.Process(target=worker, args=())\n",
    "    jobs.append(p)\n",
    "    p.start()\n",
    "        \n",
    "print(\"end test =\", now)\n"
   ]
  }
 ],
 "metadata": {
  "kernelspec": {
   "display_name": "conda_python3",
   "language": "python",
   "name": "conda_python3"
  },
  "language_info": {
   "codemirror_mode": {
    "name": "ipython",
    "version": 3
   },
   "file_extension": ".py",
   "mimetype": "text/x-python",
   "name": "python",
   "nbconvert_exporter": "python",
   "pygments_lexer": "ipython3",
   "version": "3.6.10"
  }
 },
 "nbformat": 4,
 "nbformat_minor": 4
}
