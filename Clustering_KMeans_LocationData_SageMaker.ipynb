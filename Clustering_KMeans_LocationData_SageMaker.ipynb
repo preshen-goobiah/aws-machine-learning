{
 "cells": [
  {
   "cell_type": "code",
   "execution_count": 1,
   "metadata": {},
   "outputs": [
    {
     "name": "stdout",
     "output_type": "stream",
     "text": [
      "--2020-11-04 14:19:31--  https://raw.githubusercontent.com/ACloudGuru-Resources/Course_AWS_Certified_Machine_Learning/master/Chapter6/ufo_fullset.csv\n",
      "Resolving raw.githubusercontent.com (raw.githubusercontent.com)... 199.232.24.133\n",
      "Connecting to raw.githubusercontent.com (raw.githubusercontent.com)|199.232.24.133|:443... connected.\n",
      "HTTP request sent, awaiting response... 200 OK\n",
      "Length: 2495948 (2.4M) [text/plain]\n",
      "Saving to: ‘ufo_fullset.csv’\n",
      "\n",
      "ufo_fullset.csv     100%[===================>]   2.38M  --.-KB/s    in 0.04s   \n",
      "\n",
      "2020-11-04 14:19:31 (57.9 MB/s) - ‘ufo_fullset.csv’ saved [2495948/2495948]\n",
      "\n"
     ]
    }
   ],
   "source": [
    "!wget https://raw.githubusercontent.com/ACloudGuru-Resources/Course_AWS_Certified_Machine_Learning/master/Chapter6/ufo_fullset.csv"
   ]
  },
  {
   "cell_type": "code",
   "execution_count": 8,
   "metadata": {},
   "outputs": [
    {
     "data": {
      "text/html": [
       "<div>\n",
       "<style scoped>\n",
       "    .dataframe tbody tr th:only-of-type {\n",
       "        vertical-align: middle;\n",
       "    }\n",
       "\n",
       "    .dataframe tbody tr th {\n",
       "        vertical-align: top;\n",
       "    }\n",
       "\n",
       "    .dataframe thead th {\n",
       "        text-align: right;\n",
       "    }\n",
       "</style>\n",
       "<table border=\"1\" class=\"dataframe\">\n",
       "  <thead>\n",
       "    <tr style=\"text-align: right;\">\n",
       "      <th></th>\n",
       "      <th>reportedTimestamp</th>\n",
       "      <th>eventDate</th>\n",
       "      <th>eventTime</th>\n",
       "      <th>shape</th>\n",
       "      <th>duration</th>\n",
       "      <th>witnesses</th>\n",
       "      <th>weather</th>\n",
       "      <th>firstName</th>\n",
       "      <th>lastName</th>\n",
       "      <th>latitude</th>\n",
       "      <th>longitude</th>\n",
       "      <th>sighting</th>\n",
       "      <th>physicalEvidence</th>\n",
       "      <th>contact</th>\n",
       "      <th>researchOutcome</th>\n",
       "    </tr>\n",
       "  </thead>\n",
       "  <tbody>\n",
       "    <tr>\n",
       "      <th>0</th>\n",
       "      <td>1977-04-04T04:02:23.340Z</td>\n",
       "      <td>1977-03-31</td>\n",
       "      <td>23:46</td>\n",
       "      <td>circle</td>\n",
       "      <td>4</td>\n",
       "      <td>1</td>\n",
       "      <td>rain</td>\n",
       "      <td>Ila</td>\n",
       "      <td>Bashirian</td>\n",
       "      <td>47.329444</td>\n",
       "      <td>-122.578889</td>\n",
       "      <td>Y</td>\n",
       "      <td>N</td>\n",
       "      <td>N</td>\n",
       "      <td>explained</td>\n",
       "    </tr>\n",
       "    <tr>\n",
       "      <th>1</th>\n",
       "      <td>1982-11-22T02:06:32.019Z</td>\n",
       "      <td>1982-11-15</td>\n",
       "      <td>22:04</td>\n",
       "      <td>disk</td>\n",
       "      <td>4</td>\n",
       "      <td>1</td>\n",
       "      <td>partly cloudy</td>\n",
       "      <td>Eriberto</td>\n",
       "      <td>Runolfsson</td>\n",
       "      <td>52.664913</td>\n",
       "      <td>-1.034894</td>\n",
       "      <td>Y</td>\n",
       "      <td>Y</td>\n",
       "      <td>N</td>\n",
       "      <td>explained</td>\n",
       "    </tr>\n",
       "    <tr>\n",
       "      <th>2</th>\n",
       "      <td>1992-12-07T19:06:52.482Z</td>\n",
       "      <td>1992-12-07</td>\n",
       "      <td>19:01</td>\n",
       "      <td>circle</td>\n",
       "      <td>49</td>\n",
       "      <td>1</td>\n",
       "      <td>clear</td>\n",
       "      <td>Miller</td>\n",
       "      <td>Watsica</td>\n",
       "      <td>38.951667</td>\n",
       "      <td>-92.333889</td>\n",
       "      <td>Y</td>\n",
       "      <td>N</td>\n",
       "      <td>N</td>\n",
       "      <td>explained</td>\n",
       "    </tr>\n",
       "    <tr>\n",
       "      <th>3</th>\n",
       "      <td>2011-02-24T21:06:34.898Z</td>\n",
       "      <td>2011-02-21</td>\n",
       "      <td>20:56</td>\n",
       "      <td>disk</td>\n",
       "      <td>13</td>\n",
       "      <td>1</td>\n",
       "      <td>partly cloudy</td>\n",
       "      <td>Clifton</td>\n",
       "      <td>Bechtelar</td>\n",
       "      <td>41.496944</td>\n",
       "      <td>-71.367778</td>\n",
       "      <td>Y</td>\n",
       "      <td>N</td>\n",
       "      <td>N</td>\n",
       "      <td>explained</td>\n",
       "    </tr>\n",
       "    <tr>\n",
       "      <th>4</th>\n",
       "      <td>1991-03-09T16:18:45.501Z</td>\n",
       "      <td>1991-03-09</td>\n",
       "      <td>11:42</td>\n",
       "      <td>circle</td>\n",
       "      <td>17</td>\n",
       "      <td>1</td>\n",
       "      <td>mostly cloudy</td>\n",
       "      <td>Jayda</td>\n",
       "      <td>Ebert</td>\n",
       "      <td>47.606389</td>\n",
       "      <td>-122.330833</td>\n",
       "      <td>Y</td>\n",
       "      <td>N</td>\n",
       "      <td>N</td>\n",
       "      <td>explained</td>\n",
       "    </tr>\n",
       "    <tr>\n",
       "      <th>...</th>\n",
       "      <td>...</td>\n",
       "      <td>...</td>\n",
       "      <td>...</td>\n",
       "      <td>...</td>\n",
       "      <td>...</td>\n",
       "      <td>...</td>\n",
       "      <td>...</td>\n",
       "      <td>...</td>\n",
       "      <td>...</td>\n",
       "      <td>...</td>\n",
       "      <td>...</td>\n",
       "      <td>...</td>\n",
       "      <td>...</td>\n",
       "      <td>...</td>\n",
       "      <td>...</td>\n",
       "    </tr>\n",
       "    <tr>\n",
       "      <th>17995</th>\n",
       "      <td>2019-01-18T14:41:45.346Z</td>\n",
       "      <td>2019-01-14</td>\n",
       "      <td>07:25</td>\n",
       "      <td>square</td>\n",
       "      <td>95</td>\n",
       "      <td>10</td>\n",
       "      <td>snow</td>\n",
       "      <td>Taryn</td>\n",
       "      <td>Osinski</td>\n",
       "      <td>42.033333</td>\n",
       "      <td>-87.733333</td>\n",
       "      <td>Y</td>\n",
       "      <td>N</td>\n",
       "      <td>N</td>\n",
       "      <td>unexplained</td>\n",
       "    </tr>\n",
       "    <tr>\n",
       "      <th>17996</th>\n",
       "      <td>2016-09-20T23:24:30.488Z</td>\n",
       "      <td>2016-09-14</td>\n",
       "      <td>13:27</td>\n",
       "      <td>circle</td>\n",
       "      <td>55</td>\n",
       "      <td>10</td>\n",
       "      <td>stormy</td>\n",
       "      <td>Derick</td>\n",
       "      <td>Pouros</td>\n",
       "      <td>43.004444</td>\n",
       "      <td>-71.348889</td>\n",
       "      <td>Y</td>\n",
       "      <td>N</td>\n",
       "      <td>N</td>\n",
       "      <td>explained</td>\n",
       "    </tr>\n",
       "    <tr>\n",
       "      <th>17997</th>\n",
       "      <td>1977-03-10T13:48:27.305Z</td>\n",
       "      <td>1977-03-06</td>\n",
       "      <td>21:59</td>\n",
       "      <td>circle</td>\n",
       "      <td>39</td>\n",
       "      <td>10</td>\n",
       "      <td>partly cloudy</td>\n",
       "      <td>Judah</td>\n",
       "      <td>Purdy</td>\n",
       "      <td>36.866389</td>\n",
       "      <td>-83.888889</td>\n",
       "      <td>Y</td>\n",
       "      <td>N</td>\n",
       "      <td>N</td>\n",
       "      <td>explained</td>\n",
       "    </tr>\n",
       "    <tr>\n",
       "      <th>17998</th>\n",
       "      <td>1971-07-23T13:22:36.190Z</td>\n",
       "      <td>1971-07-18</td>\n",
       "      <td>13:59</td>\n",
       "      <td>square</td>\n",
       "      <td>28</td>\n",
       "      <td>10</td>\n",
       "      <td>snow</td>\n",
       "      <td>Imelda</td>\n",
       "      <td>Botsford</td>\n",
       "      <td>35.385833</td>\n",
       "      <td>-94.398333</td>\n",
       "      <td>Y</td>\n",
       "      <td>N</td>\n",
       "      <td>N</td>\n",
       "      <td>unexplained</td>\n",
       "    </tr>\n",
       "    <tr>\n",
       "      <th>17999</th>\n",
       "      <td>2008-11-28T02:19:45.532Z</td>\n",
       "      <td>2008-11-27</td>\n",
       "      <td>15:37</td>\n",
       "      <td>circle</td>\n",
       "      <td>38</td>\n",
       "      <td>10</td>\n",
       "      <td>snow</td>\n",
       "      <td>Lia</td>\n",
       "      <td>Oberbrunner</td>\n",
       "      <td>29.883056</td>\n",
       "      <td>-97.941111</td>\n",
       "      <td>Y</td>\n",
       "      <td>N</td>\n",
       "      <td>N</td>\n",
       "      <td>explained</td>\n",
       "    </tr>\n",
       "  </tbody>\n",
       "</table>\n",
       "<p>18000 rows × 15 columns</p>\n",
       "</div>"
      ],
      "text/plain": [
       "              reportedTimestamp   eventDate eventTime   shape  duration  \\\n",
       "0      1977-04-04T04:02:23.340Z  1977-03-31     23:46  circle         4   \n",
       "1      1982-11-22T02:06:32.019Z  1982-11-15     22:04    disk         4   \n",
       "2      1992-12-07T19:06:52.482Z  1992-12-07     19:01  circle        49   \n",
       "3      2011-02-24T21:06:34.898Z  2011-02-21     20:56    disk        13   \n",
       "4      1991-03-09T16:18:45.501Z  1991-03-09     11:42  circle        17   \n",
       "...                         ...         ...       ...     ...       ...   \n",
       "17995  2019-01-18T14:41:45.346Z  2019-01-14     07:25  square        95   \n",
       "17996  2016-09-20T23:24:30.488Z  2016-09-14     13:27  circle        55   \n",
       "17997  1977-03-10T13:48:27.305Z  1977-03-06     21:59  circle        39   \n",
       "17998  1971-07-23T13:22:36.190Z  1971-07-18     13:59  square        28   \n",
       "17999  2008-11-28T02:19:45.532Z  2008-11-27     15:37  circle        38   \n",
       "\n",
       "       witnesses        weather firstName     lastName   latitude   longitude  \\\n",
       "0              1           rain       Ila    Bashirian  47.329444 -122.578889   \n",
       "1              1  partly cloudy  Eriberto   Runolfsson  52.664913   -1.034894   \n",
       "2              1          clear    Miller      Watsica  38.951667  -92.333889   \n",
       "3              1  partly cloudy   Clifton    Bechtelar  41.496944  -71.367778   \n",
       "4              1  mostly cloudy     Jayda        Ebert  47.606389 -122.330833   \n",
       "...          ...            ...       ...          ...        ...         ...   \n",
       "17995         10           snow     Taryn      Osinski  42.033333  -87.733333   \n",
       "17996         10         stormy    Derick       Pouros  43.004444  -71.348889   \n",
       "17997         10  partly cloudy     Judah        Purdy  36.866389  -83.888889   \n",
       "17998         10           snow    Imelda     Botsford  35.385833  -94.398333   \n",
       "17999         10           snow       Lia  Oberbrunner  29.883056  -97.941111   \n",
       "\n",
       "      sighting physicalEvidence contact researchOutcome  \n",
       "0            Y                N       N       explained  \n",
       "1            Y                Y       N       explained  \n",
       "2            Y                N       N       explained  \n",
       "3            Y                N       N       explained  \n",
       "4            Y                N       N       explained  \n",
       "...        ...              ...     ...             ...  \n",
       "17995        Y                N       N     unexplained  \n",
       "17996        Y                N       N       explained  \n",
       "17997        Y                N       N       explained  \n",
       "17998        Y                N       N     unexplained  \n",
       "17999        Y                N       N       explained  \n",
       "\n",
       "[18000 rows x 15 columns]"
      ]
     },
     "execution_count": 8,
     "metadata": {},
     "output_type": "execute_result"
    }
   ],
   "source": [
    "import pandas as pd\n",
    "\n",
    "ufo_df = pd.read_csv(\"ufo_fullset.csv\")\n",
    "ufo_df"
   ]
  },
  {
   "cell_type": "code",
   "execution_count": 9,
   "metadata": {},
   "outputs": [
    {
     "data": {
      "text/plain": [
       "array(['rain', 'partly cloudy', 'clear', 'mostly cloudy', 'fog', 'snow',\n",
       "       'stormy'], dtype=object)"
      ]
     },
     "execution_count": 9,
     "metadata": {},
     "output_type": "execute_result"
    }
   ],
   "source": [
    "ufo_df.weather.unique()"
   ]
  },
  {
   "cell_type": "code",
   "execution_count": 20,
   "metadata": {},
   "outputs": [
    {
     "data": {
      "text/plain": [
       "<matplotlib.axes._subplots.AxesSubplot at 0x7f266833fb38>"
      ]
     },
     "execution_count": 20,
     "metadata": {},
     "output_type": "execute_result"
    },
    {
     "data": {
      "image/png": "[encoded data removed]",
      "text/plain": [
       "<Figure size 432x288 with 1 Axes>"
      ]
     },
     "metadata": {
      "needs_background": "light"
     },
     "output_type": "display_data"
    }
   ],
   "source": [
    "# only keep long/lat\n",
    "\n",
    "ufo_df = ufo_df[['latitude', 'longitude']]\n",
    "ufo_df.plot(kind='scatter', x='latitude', y='longitude')"
   ]
  },
  {
   "cell_type": "code",
   "execution_count": 17,
   "metadata": {},
   "outputs": [],
   "source": [
    "ufo_np_arr = ufo_df.to_numpy().astype('float32')"
   ]
  },
  {
   "cell_type": "code",
   "execution_count": 21,
   "metadata": {},
   "outputs": [],
   "source": [
    "from sagemaker import get_execution_role\n",
    "role = get_execution_role()"
   ]
  },
  {
   "cell_type": "code",
   "execution_count": 26,
   "metadata": {},
   "outputs": [],
   "source": [
    "from sagemaker import KMeans\n",
    "\n",
    "bucket = \"preshen-sagemaker-sme-project\"\n",
    "output_path = 's3://{}/kmeans_highlevel_example/data'.format(bucket)\n",
    "\n",
    "\n",
    "kmeans = KMeans(role=role,\n",
    "                train_instance_count=1,\n",
    "                train_instance_type='ml.c4.xlarge',\n",
    "                output_path=output_path,\n",
    "                k=10)"
   ]
  },
  {
   "cell_type": "code",
   "execution_count": 27,
   "metadata": {},
   "outputs": [
    {
     "name": "stderr",
     "output_type": "stream",
     "text": [
      "'get_image_uri' method will be deprecated in favor of 'ImageURIProvider' class in SageMaker Python SDK v2.\n",
      "'s3_input' class will be renamed to 'TrainingInput' in SageMaker Python SDK v2.\n",
      "'get_image_uri' method will be deprecated in favor of 'ImageURIProvider' class in SageMaker Python SDK v2.\n"
     ]
    },
    {
     "name": "stdout",
     "output_type": "stream",
     "text": [
      "2020-11-04 14:58:10 Starting - Starting the training job...\n",
      "2020-11-04 14:58:12 Starting - Launching requested ML instances......\n",
      "2020-11-04 14:59:20 Starting - Preparing the instances for training.........\n",
      "2020-11-04 15:01:00 Downloading - Downloading input data...\n",
      "2020-11-04 15:01:38 Training - Training image download completed. Training in progress.\n",
      "2020-11-04 15:01:38 Uploading - Uploading generated training model\n",
      "2020-11-04 15:01:38 Completed - Training job completed\n",
      "\u001b[34mDocker entrypoint called with argument(s): train\u001b[0m\n",
      "\u001b[34mRunning default environment configuration script\u001b[0m\n",
      "\u001b[34m[11/04/2020 15:01:28 INFO 140675512657728] Reading default configuration from /opt/amazon/lib/python2.7/site-packages/algorithm/resources/default-input.json: {u'_enable_profiler': u'false', u'_tuning_objective_metric': u'', u'_num_gpus': u'auto', u'local_lloyd_num_trials': u'auto', u'_log_level': u'info', u'_kvstore': u'auto', u'local_lloyd_init_method': u'kmeans++', u'force_dense': u'true', u'epochs': u'1', u'init_method': u'random', u'local_lloyd_tol': u'0.0001', u'local_lloyd_max_iter': u'300', u'_disable_wait_to_read': u'false', u'extra_center_factor': u'auto', u'eval_metrics': u'[\"msd\"]', u'_num_kv_servers': u'1', u'mini_batch_size': u'5000', u'half_life_time_size': u'0', u'_num_slices': u'1'}\u001b[0m\n",
      "\u001b[34m[11/04/2020 15:01:28 INFO 140675512657728] Reading provided configuration from /opt/ml/input/config/hyperparameters.json: {u'feature_dim': u'2', u'k': u'10', u'force_dense': u'True'}\u001b[0m\n",
      "\u001b[34m[11/04/2020 15:01:28 INFO 140675512657728] Final configuration: {u'_tuning_objective_metric': u'', u'extra_center_factor': u'auto', u'local_lloyd_init_method': u'kmeans++', u'force_dense': u'True', u'epochs': u'1', u'feature_dim': u'2', u'local_lloyd_tol': u'0.0001', u'_disable_wait_to_read': u'false', u'eval_metrics': u'[\"msd\"]', u'_num_kv_servers': u'1', u'mini_batch_size': u'5000', u'_enable_profiler': u'false', u'_num_gpus': u'auto', u'local_lloyd_num_trials': u'auto', u'_log_level': u'info', u'init_method': u'random', u'half_life_time_size': u'0', u'local_lloyd_max_iter': u'300', u'_kvstore': u'auto', u'k': u'10', u'_num_slices': u'1'}\u001b[0m\n",
      "\u001b[34m[11/04/2020 15:01:28 WARNING 140675512657728] Loggers have already been setup.\u001b[0m\n",
      "\u001b[34mProcess 1 is a worker.\u001b[0m\n",
      "\u001b[34m[11/04/2020 15:01:28 INFO 140675512657728] Using default worker.\u001b[0m\n",
      "\u001b[34m[11/04/2020 15:01:28 INFO 140675512657728] Loaded iterator creator application/x-recordio-protobuf for content type ('application/x-recordio-protobuf', '1.0')\u001b[0m\n",
      "\u001b[34m[11/04/2020 15:01:28 INFO 140675512657728] Create Store: local\u001b[0m\n",
      "\u001b[34m[11/04/2020 15:01:28 INFO 140675512657728] nvidia-smi took: 0.0251898765564 secs to identify 0 gpus\u001b[0m\n",
      "\u001b[34m[11/04/2020 15:01:28 INFO 140675512657728] Number of GPUs being used: 0\u001b[0m\n",
      "\u001b[34m[11/04/2020 15:01:28 INFO 140675512657728] Setting up with params: {u'_tuning_objective_metric': u'', u'extra_center_factor': u'auto', u'local_lloyd_init_method': u'kmeans++', u'force_dense': u'True', u'epochs': u'1', u'feature_dim': u'2', u'local_lloyd_tol': u'0.0001', u'_disable_wait_to_read': u'false', u'eval_metrics': u'[\"msd\"]', u'_num_kv_servers': u'1', u'mini_batch_size': u'5000', u'_enable_profiler': u'false', u'_num_gpus': u'auto', u'local_lloyd_num_trials': u'auto', u'_log_level': u'info', u'init_method': u'random', u'half_life_time_size': u'0', u'local_lloyd_max_iter': u'300', u'_kvstore': u'auto', u'k': u'10', u'_num_slices': u'1'}\u001b[0m\n",
      "\u001b[34m[11/04/2020 15:01:28 INFO 140675512657728] 'extra_center_factor' was set to 'auto', evaluated to 10.\u001b[0m\n",
      "\u001b[34m[11/04/2020 15:01:28 INFO 140675512657728] Number of GPUs being used: 0\u001b[0m\n",
      "\u001b[34m[11/04/2020 15:01:28 INFO 140675512657728] number of center slices 1\u001b[0m\n",
      "\u001b[34m#metrics {\"Metrics\": {\"Max Batches Seen Between Resets\": {\"count\": 1, \"max\": 1, \"sum\": 1.0, \"min\": 1}, \"Number of Batches Since Last Reset\": {\"count\": 1, \"max\": 1, \"sum\": 1.0, \"min\": 1}, \"Number of Records Since Last Reset\": {\"count\": 1, \"max\": 5000, \"sum\": 5000.0, \"min\": 5000}, \"Total Batches Seen\": {\"count\": 1, \"max\": 1, \"sum\": 1.0, \"min\": 1}, \"Total Records Seen\": {\"count\": 1, \"max\": 5000, \"sum\": 5000.0, \"min\": 5000}, \"Max Records Seen Between Resets\": {\"count\": 1, \"max\": 5000, \"sum\": 5000.0, \"min\": 5000}, \"Reset Count\": {\"count\": 1, \"max\": 0, \"sum\": 0.0, \"min\": 0}}, \"EndTime\": 1604502088.999398, \"Dimensions\": {\"Host\": \"algo-1\", \"Meta\": \"init_train_data_iter\", \"Operation\": \"training\", \"Algorithm\": \"AWS/KMeansWebscale\"}, \"StartTime\": 1604502088.999364}\n",
      "\u001b[0m\n",
      "\u001b[34m[2020-11-04 15:01:28.999] [tensorio] [info] epoch_stats={\"data_pipeline\": \"/opt/ml/input/data/train\", \"epoch\": 0, \"duration\": 54, \"num_examples\": 1, \"num_bytes\": 160000}\u001b[0m\n",
      "\u001b[34m[2020-11-04 15:01:29.101] [tensorio] [info] epoch_stats={\"data_pipeline\": \"/opt/ml/input/data/train\", \"epoch\": 1, \"duration\": 101, \"num_examples\": 4, \"num_bytes\": 576000}\u001b[0m\n",
      "\u001b[34m[11/04/2020 15:01:29 INFO 140675512657728] processed a total of 18000 examples\u001b[0m\n",
      "\u001b[34m[11/04/2020 15:01:29 INFO 140675512657728] #progress_metric: host=algo-1, completed 100 % of epochs\u001b[0m\n",
      "\u001b[34m#metrics {\"Metrics\": {\"Max Batches Seen Between Resets\": {\"count\": 1, \"max\": 4, \"sum\": 4.0, \"min\": 4}, \"Number of Batches Since Last Reset\": {\"count\": 1, \"max\": 4, \"sum\": 4.0, \"min\": 4}, \"Number of Records Since Last Reset\": {\"count\": 1, \"max\": 18000, \"sum\": 18000.0, \"min\": 18000}, \"Total Batches Seen\": {\"count\": 1, \"max\": 5, \"sum\": 5.0, \"min\": 5}, \"Total Records Seen\": {\"count\": 1, \"max\": 23000, \"sum\": 23000.0, \"min\": 23000}, \"Max Records Seen Between Resets\": {\"count\": 1, \"max\": 18000, \"sum\": 18000.0, \"min\": 18000}, \"Reset Count\": {\"count\": 1, \"max\": 1, \"sum\": 1.0, \"min\": 1}}, \"EndTime\": 1604502089.101928, \"Dimensions\": {\"Host\": \"algo-1\", \"Meta\": \"training_data_iter\", \"Operation\": \"training\", \"Algorithm\": \"AWS/KMeansWebscale\", \"epoch\": 0}, \"StartTime\": 1604502088.999674}\n",
      "\u001b[0m\n",
      "\u001b[34m[11/04/2020 15:01:29 INFO 140675512657728] #throughput_metric: host=algo-1, train throughput=175800.377227 records/second\u001b[0m\n",
      "\u001b[34m[11/04/2020 15:01:29 WARNING 140675512657728] wait_for_all_workers will not sync workers since the kv store is not running distributed\u001b[0m\n",
      "\u001b[34m[11/04/2020 15:01:29 INFO 140675512657728] shrinking 100 centers into 10\u001b[0m\n",
      "\u001b[34m[11/04/2020 15:01:29 INFO 140675512657728] local kmeans attempt #0. Current mean square distance 33.624615\u001b[0m\n",
      "\u001b[34m[11/04/2020 15:01:29 INFO 140675512657728] local kmeans attempt #1. Current mean square distance 38.219521\u001b[0m\n",
      "\u001b[34m[11/04/2020 15:01:29 INFO 140675512657728] local kmeans attempt #2. Current mean square distance 36.419228\u001b[0m\n",
      "\u001b[34m[11/04/2020 15:01:29 INFO 140675512657728] local kmeans attempt #3. Current mean square distance 40.869942\u001b[0m\n",
      "\u001b[34m[11/04/2020 15:01:29 INFO 140675512657728] local kmeans attempt #4. Current mean square distance 38.660614\u001b[0m\n",
      "\u001b[34m[11/04/2020 15:01:29 INFO 140675512657728] local kmeans attempt #5. Current mean square distance 34.055157\u001b[0m\n",
      "\u001b[34m[11/04/2020 15:01:29 INFO 140675512657728] local kmeans attempt #6. Current mean square distance 41.963295\u001b[0m\n",
      "\u001b[34m[11/04/2020 15:01:29 INFO 140675512657728] local kmeans attempt #7. Current mean square distance 34.089043\u001b[0m\n",
      "\u001b[34m[11/04/2020 15:01:29 INFO 140675512657728] local kmeans attempt #8. Current mean square distance 38.949398\u001b[0m\n",
      "\u001b[34m[11/04/2020 15:01:29 INFO 140675512657728] local kmeans attempt #9. Current mean square distance 37.275475\u001b[0m\n",
      "\u001b[34m[11/04/2020 15:01:29 INFO 140675512657728] finished shrinking process. Mean Square Distance = 34\u001b[0m\n",
      "\u001b[34m[11/04/2020 15:01:29 INFO 140675512657728] #quality_metric: host=algo-1, train msd <loss>=33.6246147156\u001b[0m\n",
      "\u001b[34m[11/04/2020 15:01:29 INFO 140675512657728] compute all data-center distances: inner product took: 27.3559%, (0.029838 secs)\u001b[0m\n",
      "\u001b[34m[11/04/2020 15:01:29 INFO 140675512657728] predict compute msd took: 15.6833%, (0.017106 secs)\u001b[0m\n",
      "\u001b[34m[11/04/2020 15:01:29 INFO 140675512657728] gradient: cluster center took: 9.1644%, (0.009996 secs)\u001b[0m\n",
      "\u001b[34m[11/04/2020 15:01:29 INFO 140675512657728] collect from kv store took: 8.5097%, (0.009282 secs)\u001b[0m\n",
      "\u001b[34m[11/04/2020 15:01:29 INFO 140675512657728] gradient: cluster size  took: 8.2212%, (0.008967 secs)\u001b[0m\n",
      "\u001b[34m[11/04/2020 15:01:29 INFO 140675512657728] splitting centers key-value pair took: 7.9928%, (0.008718 secs)\u001b[0m\n",
      "\u001b[34m[11/04/2020 15:01:29 INFO 140675512657728] compute all data-center distances: point norm took: 7.5152%, (0.008197 secs)\u001b[0m\n",
      "\u001b[34m[11/04/2020 15:01:29 INFO 140675512657728] batch data loading with context took: 7.1718%, (0.007823 secs)\u001b[0m\n",
      "\u001b[34m[11/04/2020 15:01:29 INFO 140675512657728] gradient: one_hot took: 5.5322%, (0.006034 secs)\u001b[0m\n",
      "\u001b[34m[11/04/2020 15:01:29 INFO 140675512657728] update state and report convergance took: 1.8997%, (0.002072 secs)\u001b[0m\n",
      "\u001b[34m[11/04/2020 15:01:29 INFO 140675512657728] compute all data-center distances: center norm took: 0.5858%, (0.000639 secs)\u001b[0m\n",
      "\u001b[34m[11/04/2020 15:01:29 INFO 140675512657728] update set-up time took: 0.2695%, (0.000294 secs)\u001b[0m\n",
      "\u001b[34m[11/04/2020 15:01:29 INFO 140675512657728] predict minus dist took: 0.0986%, (0.000108 secs)\u001b[0m\n",
      "\u001b[34m[11/04/2020 15:01:29 INFO 140675512657728] TOTAL took: 0.109073638916\u001b[0m\n",
      "\u001b[34m[11/04/2020 15:01:29 INFO 140675512657728] Number of GPUs being used: 0\u001b[0m\n",
      "\u001b[34m#metrics {\"Metrics\": {\"finalize.time\": {\"count\": 1, \"max\": 377.4089813232422, \"sum\": 377.4089813232422, \"min\": 377.4089813232422}, \"initialize.time\": {\"count\": 1, \"max\": 46.41985893249512, \"sum\": 46.41985893249512, \"min\": 46.41985893249512}, \"model.serialize.time\": {\"count\": 1, \"max\": 0.17404556274414062, \"sum\": 0.17404556274414062, \"min\": 0.17404556274414062}, \"update.time\": {\"count\": 1, \"max\": 102.05197334289551, \"sum\": 102.05197334289551, \"min\": 102.05197334289551}, \"epochs\": {\"count\": 1, \"max\": 1, \"sum\": 1.0, \"min\": 1}, \"state.serialize.time\": {\"count\": 1, \"max\": 2.331972122192383, \"sum\": 2.331972122192383, \"min\": 2.331972122192383}, \"_shrink.time\": {\"count\": 1, \"max\": 374.6328353881836, \"sum\": 374.6328353881836, \"min\": 374.6328353881836}}, \"EndTime\": 1604502089.482315, \"Dimensions\": {\"Host\": \"algo-1\", \"Operation\": \"training\", \"Algorithm\": \"AWS/KMeansWebscale\"}, \"StartTime\": 1604502088.944442}\n",
      "\u001b[0m\n",
      "\u001b[34m[11/04/2020 15:01:29 INFO 140675512657728] Test data is not provided.\u001b[0m\n",
      "\u001b[34m#metrics {\"Metrics\": {\"totaltime\": {\"count\": 1, \"max\": 601.17506980896, \"sum\": 601.17506980896, \"min\": 601.17506980896}, \"setuptime\": {\"count\": 1, \"max\": 13.012170791625977, \"sum\": 13.012170791625977, \"min\": 13.012170791625977}}, \"EndTime\": 1604502089.482736, \"Dimensions\": {\"Host\": \"algo-1\", \"Operation\": \"training\", \"Algorithm\": \"AWS/KMeansWebscale\"}, \"StartTime\": 1604502089.48244}\n",
      "\u001b[0m\n"
     ]
    },
    {
     "name": "stdout",
     "output_type": "stream",
     "text": [
      "Training seconds: 38\n",
      "Billable seconds: 38\n",
      "CPU times: user 701 ms, sys: 24.1 ms, total: 725 ms\n",
      "Wall time: 3min 42s\n"
     ]
    }
   ],
   "source": [
    "%%time\n",
    "\n",
    "kmeans.fit(kmeans.record_set(ufo_np_arr))"
   ]
  },
  {
   "cell_type": "code",
   "execution_count": 28,
   "metadata": {},
   "outputs": [
    {
     "ename": "NameError",
     "evalue": "name 'plt' is not defined",
     "output_type": "error",
     "traceback": [
      "\u001b[0;31m---------------------------------------------------------------------------\u001b[0m",
      "\u001b[0;31mNameError\u001b[0m                                 Traceback (most recent call last)",
      "\u001b[0;32m<ipython-input-28-98df2eeb2ad8>\u001b[0m in \u001b[0;36m<module>\u001b[0;34m\u001b[0m\n\u001b[1;32m      4\u001b[0m \u001b[0mX_tsne\u001b[0m \u001b[0;34m=\u001b[0m \u001b[0mtsne\u001b[0m\u001b[0;34m.\u001b[0m\u001b[0mfit_transform\u001b[0m\u001b[0;34m(\u001b[0m\u001b[0mufo_np_arr\u001b[0m\u001b[0;34m)\u001b[0m\u001b[0;34m\u001b[0m\u001b[0;34m\u001b[0m\u001b[0m\n\u001b[1;32m      5\u001b[0m \u001b[0;34m\u001b[0m\u001b[0m\n\u001b[0;32m----> 6\u001b[0;31m \u001b[0mplt\u001b[0m\u001b[0;34m.\u001b[0m\u001b[0mfigure\u001b[0m\u001b[0;34m(\u001b[0m\u001b[0mfigsize\u001b[0m\u001b[0;34m=\u001b[0m\u001b[0;34m(\u001b[0m\u001b[0;36m6\u001b[0m\u001b[0;34m,\u001b[0m \u001b[0;36m5\u001b[0m\u001b[0;34m)\u001b[0m\u001b[0;34m)\u001b[0m\u001b[0;34m\u001b[0m\u001b[0;34m\u001b[0m\u001b[0m\n\u001b[0m\u001b[1;32m      7\u001b[0m \u001b[0mX_tsne_1000\u001b[0m \u001b[0;34m=\u001b[0m \u001b[0mX_tsne\u001b[0m\u001b[0;34m[\u001b[0m\u001b[0;34m:\u001b[0m\u001b[0;36m1000\u001b[0m\u001b[0;34m]\u001b[0m\u001b[0;34m\u001b[0m\u001b[0;34m\u001b[0m\u001b[0m\n\u001b[1;32m      8\u001b[0m \u001b[0mplt\u001b[0m\u001b[0;34m.\u001b[0m\u001b[0mscatter\u001b[0m\u001b[0;34m(\u001b[0m\u001b[0mX_tsne_1000\u001b[0m\u001b[0;34m[\u001b[0m\u001b[0;34m:\u001b[0m\u001b[0;34m,\u001b[0m \u001b[0;36m0\u001b[0m\u001b[0;34m]\u001b[0m\u001b[0;34m,\u001b[0m \u001b[0mX_tsne_1000\u001b[0m\u001b[0;34m[\u001b[0m\u001b[0;34m:\u001b[0m\u001b[0;34m,\u001b[0m \u001b[0;36m1\u001b[0m\u001b[0;34m]\u001b[0m\u001b[0;34m)\u001b[0m\u001b[0;34m\u001b[0m\u001b[0;34m\u001b[0m\u001b[0m\n",
      "\u001b[0;31mNameError\u001b[0m: name 'plt' is not defined"
     ]
    }
   ],
   "source": [
    "# using TSNE for visualizing first 10000 data points from 1979 dataset\n",
    "from sklearn import manifold\n",
    "tsne = manifold.TSNE(n_components=2, init='pca', random_state=1200)\n",
    "X_tsne = tsne.fit_transform(ufo_np_arr)\n",
    "\n",
    "plt.figure(figsize=(6, 5))\n",
    "X_tsne_1000 = X_tsne[:1000]\n",
    "plt.scatter(X_tsne_1000[:, 0], X_tsne_1000[:, 1])\n",
    "plt.show()"
   ]
  },
  {
   "cell_type": "code",
   "execution_count": 30,
   "metadata": {},
   "outputs": [
    {
     "data": {
      "image/png": "[encoded data removed]",
      "text/plain": [
       "<Figure size 432x360 with 1 Axes>"
      ]
     },
     "metadata": {
      "needs_background": "light"
     },
     "output_type": "display_data"
    }
   ],
   "source": [
    "import matplotlib.pyplot as plt\n",
    "\n",
    "plt.figure(figsize=(6, 5))\n",
    "X_tsne_1000 = X_tsne[:1000]\n",
    "plt.scatter(X_tsne_1000[:, 0], X_tsne_1000[:, 1])\n",
    "plt.show()"
   ]
  },
  {
   "cell_type": "code",
   "execution_count": 35,
   "metadata": {},
   "outputs": [
    {
     "name": "stdout",
     "output_type": "stream",
     "text": [
      "model_algo-1\r\n",
      "state_2b4f4b6d-d11a-4f65-ab47-b6e5d0083772\r\n"
     ]
    }
   ],
   "source": [
    "import boto3\n",
    "s3_client = boto3.client('s3')\n",
    "\n",
    "\n",
    "key = 'kmeans_highlevel_example/data/kmeans-2020-11-04-14-58-10-284/output/model.tar.gz'\n",
    "\n",
    "s3_client.download_file(bucket, key, 'model.tar.gz')\n",
    "\n",
    "!tar -xvf model.tar.gz"
   ]
  },
  {
   "cell_type": "code",
   "execution_count": 38,
   "metadata": {},
   "outputs": [
    {
     "name": "stdout",
     "output_type": "stream",
     "text": [
      "Collecting mxnet\n",
      "  Downloading mxnet-1.7.0.post1-py2.py3-none-manylinux2014_x86_64.whl (55.0 MB)\n",
      "\u001b[K     |████████████████████████████████| 55.0 MB 152 kB/s  eta 0:00:01\n",
      "\u001b[?25hRequirement already satisfied: requests<3,>=2.20.0 in /home/ec2-user/anaconda3/envs/python3/lib/python3.6/site-packages (from mxnet) (2.22.0)\n",
      "Collecting graphviz<0.9.0,>=0.8.1\n",
      "  Downloading graphviz-0.8.4-py2.py3-none-any.whl (16 kB)\n",
      "Requirement already satisfied: numpy<2.0.0,>1.16.0 in /home/ec2-user/anaconda3/envs/python3/lib/python3.6/site-packages (from mxnet) (1.18.1)\n",
      "Requirement already satisfied: certifi>=2017.4.17 in /home/ec2-user/anaconda3/envs/python3/lib/python3.6/site-packages (from requests<3,>=2.20.0->mxnet) (2020.6.20)\n",
      "Requirement already satisfied: chardet<3.1.0,>=3.0.2 in /home/ec2-user/anaconda3/envs/python3/lib/python3.6/site-packages (from requests<3,>=2.20.0->mxnet) (3.0.4)\n",
      "Requirement already satisfied: urllib3!=1.25.0,!=1.25.1,<1.26,>=1.21.1 in /home/ec2-user/anaconda3/envs/python3/lib/python3.6/site-packages (from requests<3,>=2.20.0->mxnet) (1.25.10)\n",
      "Requirement already satisfied: idna<2.9,>=2.5 in /home/ec2-user/anaconda3/envs/python3/lib/python3.6/site-packages (from requests<3,>=2.20.0->mxnet) (2.8)\n",
      "Installing collected packages: graphviz, mxnet\n",
      "Successfully installed graphviz-0.8.4 mxnet-1.7.0.post1\n",
      "\u001b[33mWARNING: You are using pip version 20.0.2; however, version 20.2.4 is available.\n",
      "You should consider upgrading via the '/home/ec2-user/anaconda3/envs/python3/bin/python -m pip install --upgrade pip' command.\u001b[0m\n"
     ]
    }
   ],
   "source": [
    "!pip install mxnet\n",
    "!pip install descartes"
   ]
  },
  {
   "cell_type": "code",
   "execution_count": 55,
   "metadata": {},
   "outputs": [
    {
     "ename": "AttributeError",
     "evalue": "'list' object has no attribute 'asnumpy'",
     "output_type": "error",
     "traceback": [
      "\u001b[0;31m---------------------------------------------------------------------------\u001b[0m",
      "\u001b[0;31mAttributeError\u001b[0m                            Traceback (most recent call last)",
      "\u001b[0;32m<ipython-input-55-f24adc82c7a3>\u001b[0m in \u001b[0;36m<module>\u001b[0;34m\u001b[0m\n\u001b[1;32m      1\u001b[0m \u001b[0;32mimport\u001b[0m \u001b[0mmxnet\u001b[0m \u001b[0;32mas\u001b[0m \u001b[0mmx\u001b[0m\u001b[0;34m\u001b[0m\u001b[0;34m\u001b[0m\u001b[0m\n\u001b[1;32m      2\u001b[0m \u001b[0;34m\u001b[0m\u001b[0m\n\u001b[0;32m----> 3\u001b[0;31m \u001b[0mkmeans_model\u001b[0m\u001b[0;34m=\u001b[0m\u001b[0mmx\u001b[0m\u001b[0;34m.\u001b[0m\u001b[0mndarray\u001b[0m\u001b[0;34m.\u001b[0m\u001b[0mload\u001b[0m\u001b[0;34m(\u001b[0m\u001b[0;34m'model_algo-1'\u001b[0m\u001b[0;34m)\u001b[0m\u001b[0;34m.\u001b[0m\u001b[0masnumpy\u001b[0m\u001b[0;34m(\u001b[0m\u001b[0;34m)\u001b[0m\u001b[0;34m\u001b[0m\u001b[0;34m\u001b[0m\u001b[0m\n\u001b[0m",
      "\u001b[0;31mAttributeError\u001b[0m: 'list' object has no attribute 'asnumpy'"
     ]
    }
   ],
   "source": [
    "import mxnet as mx\n",
    "\n",
    "kmeans_model=mx.ndarray.load('model_algo-1')"
   ]
  },
  {
   "cell_type": "code",
   "execution_count": 74,
   "metadata": {},
   "outputs": [
    {
     "data": {
      "text/plain": [
       "array([[  28.12654  ,  -80.63828  ],\n",
       "       [  48.83291  ,    3.8039398],\n",
       "       [  47.780388 , -122.33256  ],\n",
       "       [ -32.115215 ,  146.20006  ],\n",
       "       [  39.2766   ,  -85.39296  ],\n",
       "       [  17.55128  ,   94.15697  ],\n",
       "       [  41.435036 ,  -74.46046  ],\n",
       "       [  35.65189  , -117.27756  ],\n",
       "       [  35.863693 ,  -97.604416 ],\n",
       "       [  21.643463 , -157.81377  ]], dtype=float32)"
      ]
     },
     "execution_count": 74,
     "metadata": {},
     "output_type": "execute_result"
    }
   ],
   "source": [
    "kmeans_centroids = kmeans_model[0].asnumpy()\n"
   ]
  },
  {
   "cell_type": "code",
   "execution_count": 83,
   "metadata": {},
   "outputs": [
    {
     "data": {
      "text/plain": [
       "array([ -80.63828  ,    3.8039398, -122.33256  ,  146.20006  ,\n",
       "        -85.39296  ,   94.15697  ,  -74.46046  , -117.27756  ,\n",
       "        -97.604416 , -157.81377  ], dtype=float32)"
      ]
     },
     "execution_count": 83,
     "metadata": {},
     "output_type": "execute_result"
    }
   ],
   "source": [
    "kmeans_centroids[:,0]"
   ]
  },
  {
   "cell_type": "code",
   "execution_count": 86,
   "metadata": {},
   "outputs": [],
   "source": [
    "import geopandas\n",
    "import matplotlib.pyplot as plt\n",
    "import descartes\n",
    "\n",
    "\n",
    "gdf = geopandas.GeoDataFrame(geometry=geopandas.points_from_xy(kmeans_centroids[:,1], (kmeans_centroids[:,0])))"
   ]
  },
  {
   "cell_type": "code",
   "execution_count": 87,
   "metadata": {},
   "outputs": [
    {
     "data": {
      "text/plain": [
       "<matplotlib.axes._subplots.AxesSubplot at 0x7f266697e8d0>"
      ]
     },
     "execution_count": 87,
     "metadata": {},
     "output_type": "execute_result"
    },
    {
     "data": {
      "image/png": "[encoded data removed]",
      "text/plain": [
       "<Figure size 432x288 with 1 Axes>"
      ]
     },
     "metadata": {
      "needs_background": "light"
     },
     "output_type": "display_data"
    }
   ],
   "source": [
    "world = geopandas.read_file(geopandas.datasets.get_path('naturalearth_lowres'))\n",
    "\n",
    "# We restrict to South America.\n",
    "ax = world.plot(\n",
    "    color='white', edgecolor='black')\n",
    "\n",
    "gdf.plot(ax=ax, color='red')\n"
   ]
  }
 ],
 "metadata": {
  "kernelspec": {
   "display_name": "conda_python3",
   "language": "python",
   "name": "conda_python3"
  },
  "language_info": {
   "codemirror_mode": {
    "name": "ipython",
    "version": 3
   },
   "file_extension": ".py",
   "mimetype": "text/x-python",
   "name": "python",
   "nbconvert_exporter": "python",
   "pygments_lexer": "ipython3",
   "version": "3.6.10"
  }
 },
 "nbformat": 4,
 "nbformat_minor": 4
}
