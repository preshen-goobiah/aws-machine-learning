{
 "cells": [
  {
   "cell_type": "code",
   "execution_count": 6,
   "metadata": {},
   "outputs": [],
   "source": [
    "import requests\n",
    "import boto3 \n",
    "import time\n",
    "import random\n",
    "import json\n",
    "\n",
    "from datetime import datetime\n",
    "\n",
    "\n",
    "\n",
    "def get_user():\n",
    "    r = requests.get('https://randomuser.me/api/?exc=login')\n",
    "    user = \"\" \n",
    "    \n",
    "    # AWS Lambda function will fail, as it will look for keys. need to safeguard.\n",
    "    # safeguard added to lambda function to return failures on empty dicts \n",
    "    # Initialize empty user\n",
    "    \n",
    "    try:\n",
    "        user= json.dumps(r.json()['results'][0])\n",
    "    except:\n",
    "        print(r.text)\n",
    "        print(r.status_code, datetime.now())\n",
    "        \n",
    "    return str(user)\n",
    "\n",
    "\n",
    "def put_firehose(firehose_name, user):\n",
    "    firehose_name = firehose_name\n",
    "    firehose_client  = boto3.client('firehose', region_name=\"eu-west-1\")\n",
    "    \n",
    "    # boto3 client handles uuid for partition key\n",
    "    firehose_client.put_record(DeliveryStreamName=firehose_name,\n",
    "                                           Record={'Data': user})\n",
    "    \n",
    "def get_user_put_data(firehose_name, m):\n",
    "    \n",
    "    firehose_name = firehose_name\n",
    "    firehose_client  = boto3.client('firehose', region_name=\"eu-west-1\")\n",
    "\n",
    "    i = 0\n",
    "    while i < m:\n",
    "        user = get_user()\n",
    "        put_firehose(\"stream-marketing-users\", user)\n",
    "        \n",
    "        # add a jitter \n",
    "        time.sleep(random.uniform(1,5))   \n",
    "        i = i+1\n",
    "    \n",
    "    return \n",
    "\n"
   ]
  },
  {
   "cell_type": "code",
   "execution_count": 7,
   "metadata": {},
   "outputs": [
    {
     "name": "stdout",
     "output_type": "stream",
     "text": [
      "start test = 2020-11-19 08:55:27.128565\n",
      "end test = 2020-11-19 08:55:27.128565\n",
      "<html>\n",
      "<head>\n",
      "<title>Uh oh, something bad happened</title>\n",
      "<script async src='/cdn-cgi/bm/cv/2172558837/api.js'></script></head>\n",
      "<body align='center'>\n",
      "<h1 align='center'>Uh oh, something bad happened</h1>\n",
      "<a class=\"twitter-timeline\" data-width=\"450\" data-height=\"700\" data-theme=\"light\" href=\"https://twitter.com/randomapi\">Tweets by randomapi</a> <script async src=\"//platform.twitter.com/widgets.js\" charset=\"utf-8\"></script>\n",
      "<script type=\"text/javascript\">(function(){window['__CF$cv$params']={r:'5f48b6617b420792',m:'f24dd62a18b14ec2517566b4c64b0b5445e11710-1605776128-1800-ARJ25nOlBSv1LvAoL+0KXm2tkHxAk96tYt1ofTMYwszHwYOExCkRhoL4/OXTm7870XWRSNkDYaokAIZug0ib5eJgN3Zuja0HoVrNr17Cmelgxt4mxY3y9Kd5slD9/MulTA==',s:[0x6ced688581,0xa7dfdf61b7],}})();</script></body>\n",
      "</html>\n",
      "\n",
      "503 2020-11-19 08:55:28.333060\n"
     ]
    }
   ],
   "source": [
    "import multiprocessing\n",
    "from datetime import datetime\n",
    "\n",
    "\n",
    "firehose_name = \"stream-marketing-users\"\n",
    "now = datetime.now()\n",
    " \n",
    "print(\"start test =\", now)\n",
    "\n",
    "jobs = []\n",
    "\n",
    "# launch num_workers, to make num_requests each\n",
    "\n",
    "num_workers = 1\n",
    "num_requests = 10\n",
    "\n",
    "for i in range(num_workers):\n",
    "    p = multiprocessing.Process(target=get_user_put_data, args=(firehose_name, num_requests))\n",
    "    jobs.append(p)\n",
    "    p.start()\n",
    "        \n",
    "print(\"end test =\", now)"
   ]
  },
  {
   "cell_type": "code",
   "execution_count": null,
   "metadata": {},
   "outputs": [],
   "source": []
  }
 ],
 "metadata": {
  "kernelspec": {
   "display_name": "conda_python3",
   "language": "python",
   "name": "conda_python3"
  },
  "language_info": {
   "codemirror_mode": {
    "name": "ipython",
    "version": 3
   },
   "file_extension": ".py",
   "mimetype": "text/x-python",
   "name": "python",
   "nbconvert_exporter": "python",
   "pygments_lexer": "ipython3",
   "version": "3.6.10"
  }
 },
 "nbformat": 4,
 "nbformat_minor": 4
}
