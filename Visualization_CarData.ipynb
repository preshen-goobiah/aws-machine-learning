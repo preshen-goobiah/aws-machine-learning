{
 "cells": [
  {
   "cell_type": "code",
   "execution_count": 2,
   "metadata": {},
   "outputs": [
    {
     "name": "stdout",
     "output_type": "stream",
     "text": [
      "--2020-11-04 11:35:01--  https://raw.githubusercontent.com/ACloudGuru-Resources/Course_AWS_Certified_Machine_Learning/master/Chapter5/car_data.csv\n",
      "Resolving raw.githubusercontent.com (raw.githubusercontent.com)... 199.232.24.133\n",
      "Connecting to raw.githubusercontent.com (raw.githubusercontent.com)|199.232.24.133|:443... connected.\n",
      "HTTP request sent, awaiting response... 200 OK\n",
      "Length: 108982 (106K) [text/plain]\n",
      "Saving to: ‘car_data.csv.1’\n",
      "\n",
      "car_data.csv.1      100%[===================>] 106.43K  --.-KB/s    in 0.003s  \n",
      "\n",
      "2020-11-04 11:35:01 (39.5 MB/s) - ‘car_data.csv.1’ saved [108982/108982]\n",
      "\n"
     ]
    }
   ],
   "source": [
    "!wget https://raw.githubusercontent.com/ACloudGuru-Resources/Course_AWS_Certified_Machine_Learning/master/Chapter5/car_data.csv "
   ]
  },
  {
   "cell_type": "code",
   "execution_count": null,
   "metadata": {},
   "outputs": [],
   "source": [
    "# Which month generates the most sales?\n",
    "# Which car salesman sold the most cars?\n",
    "# Which dealership sold the most cars?\n",
    "# In what year was the averagr price of a Corvette greater than 100K?\n",
    "# Which car has several points in the box plots far right upper quartile for the engines horsepower?\n"
   ]
  },
  {
   "cell_type": "code",
   "execution_count": 1,
   "metadata": {},
   "outputs": [
    {
     "data": {
      "text/html": [
       "<div>\n",
       "<style scoped>\n",
       "    .dataframe tbody tr th:only-of-type {\n",
       "        vertical-align: middle;\n",
       "    }\n",
       "\n",
       "    .dataframe tbody tr th {\n",
       "        vertical-align: top;\n",
       "    }\n",
       "\n",
       "    .dataframe thead th {\n",
       "        text-align: right;\n",
       "    }\n",
       "</style>\n",
       "<table border=\"1\" class=\"dataframe\">\n",
       "  <thead>\n",
       "    <tr style=\"text-align: right;\">\n",
       "      <th></th>\n",
       "      <th>car</th>\n",
       "      <th>year</th>\n",
       "      <th>engine_hp</th>\n",
       "      <th>avg_mpg</th>\n",
       "      <th>price</th>\n",
       "      <th>salesman</th>\n",
       "      <th>dealership</th>\n",
       "      <th>sold_date</th>\n",
       "      <th>sold_month</th>\n",
       "    </tr>\n",
       "  </thead>\n",
       "  <tbody>\n",
       "    <tr>\n",
       "      <th>0</th>\n",
       "      <td>Corvette</td>\n",
       "      <td>2011</td>\n",
       "      <td>335.0</td>\n",
       "      <td>22.5</td>\n",
       "      <td>46135</td>\n",
       "      <td>2</td>\n",
       "      <td>Big Bobs</td>\n",
       "      <td>2012-05-06</td>\n",
       "      <td>5</td>\n",
       "    </tr>\n",
       "    <tr>\n",
       "      <th>1</th>\n",
       "      <td>Corvette</td>\n",
       "      <td>2011</td>\n",
       "      <td>300.0</td>\n",
       "      <td>23.5</td>\n",
       "      <td>40650</td>\n",
       "      <td>2</td>\n",
       "      <td>Uptown Cars</td>\n",
       "      <td>2011-05-16</td>\n",
       "      <td>5</td>\n",
       "    </tr>\n",
       "    <tr>\n",
       "      <th>2</th>\n",
       "      <td>Corvette</td>\n",
       "      <td>2011</td>\n",
       "      <td>300.0</td>\n",
       "      <td>24.0</td>\n",
       "      <td>36350</td>\n",
       "      <td>2</td>\n",
       "      <td>Uptown Cars</td>\n",
       "      <td>2013-07-31</td>\n",
       "      <td>7</td>\n",
       "    </tr>\n",
       "    <tr>\n",
       "      <th>3</th>\n",
       "      <td>Corvette</td>\n",
       "      <td>2011</td>\n",
       "      <td>230.0</td>\n",
       "      <td>23.0</td>\n",
       "      <td>29450</td>\n",
       "      <td>2</td>\n",
       "      <td>Uptown Cars</td>\n",
       "      <td>2014-07-05</td>\n",
       "      <td>7</td>\n",
       "    </tr>\n",
       "    <tr>\n",
       "      <th>4</th>\n",
       "      <td>Corvette</td>\n",
       "      <td>2011</td>\n",
       "      <td>230.0</td>\n",
       "      <td>23.0</td>\n",
       "      <td>34500</td>\n",
       "      <td>2</td>\n",
       "      <td>Uptown Cars</td>\n",
       "      <td>2013-05-20</td>\n",
       "      <td>5</td>\n",
       "    </tr>\n",
       "    <tr>\n",
       "      <th>...</th>\n",
       "      <td>...</td>\n",
       "      <td>...</td>\n",
       "      <td>...</td>\n",
       "      <td>...</td>\n",
       "      <td>...</td>\n",
       "      <td>...</td>\n",
       "      <td>...</td>\n",
       "      <td>...</td>\n",
       "      <td>...</td>\n",
       "    </tr>\n",
       "    <tr>\n",
       "      <th>1956</th>\n",
       "      <td>Corvette</td>\n",
       "      <td>2016</td>\n",
       "      <td>240.0</td>\n",
       "      <td>28.0</td>\n",
       "      <td>49700</td>\n",
       "      <td>4</td>\n",
       "      <td>Uptown Cars</td>\n",
       "      <td>2019-09-09</td>\n",
       "      <td>9</td>\n",
       "    </tr>\n",
       "    <tr>\n",
       "      <th>1957</th>\n",
       "      <td>Corvette</td>\n",
       "      <td>2016</td>\n",
       "      <td>335.0</td>\n",
       "      <td>20.5</td>\n",
       "      <td>66350</td>\n",
       "      <td>2</td>\n",
       "      <td>Car Town</td>\n",
       "      <td>2017-04-29</td>\n",
       "      <td>4</td>\n",
       "    </tr>\n",
       "    <tr>\n",
       "      <th>1958</th>\n",
       "      <td>Corvette</td>\n",
       "      <td>2001</td>\n",
       "      <td>394.0</td>\n",
       "      <td>15.5</td>\n",
       "      <td>128000</td>\n",
       "      <td>4</td>\n",
       "      <td>Uptown Cars</td>\n",
       "      <td>2002-05-15</td>\n",
       "      <td>5</td>\n",
       "    </tr>\n",
       "    <tr>\n",
       "      <th>1959</th>\n",
       "      <td>Corvette</td>\n",
       "      <td>2002</td>\n",
       "      <td>394.0</td>\n",
       "      <td>15.5</td>\n",
       "      <td>130000</td>\n",
       "      <td>2</td>\n",
       "      <td>Uptown Cars</td>\n",
       "      <td>2002-05-07</td>\n",
       "      <td>5</td>\n",
       "    </tr>\n",
       "    <tr>\n",
       "      <th>1960</th>\n",
       "      <td>Corvette</td>\n",
       "      <td>2003</td>\n",
       "      <td>394.0</td>\n",
       "      <td>15.5</td>\n",
       "      <td>131500</td>\n",
       "      <td>3</td>\n",
       "      <td>Big Bobs</td>\n",
       "      <td>2005-02-09</td>\n",
       "      <td>2</td>\n",
       "    </tr>\n",
       "  </tbody>\n",
       "</table>\n",
       "<p>1961 rows × 9 columns</p>\n",
       "</div>"
      ],
      "text/plain": [
       "           car  year  engine_hp  avg_mpg   price  salesman   dealership  \\\n",
       "0     Corvette  2011      335.0     22.5   46135         2     Big Bobs   \n",
       "1     Corvette  2011      300.0     23.5   40650         2  Uptown Cars   \n",
       "2     Corvette  2011      300.0     24.0   36350         2  Uptown Cars   \n",
       "3     Corvette  2011      230.0     23.0   29450         2  Uptown Cars   \n",
       "4     Corvette  2011      230.0     23.0   34500         2  Uptown Cars   \n",
       "...        ...   ...        ...      ...     ...       ...          ...   \n",
       "1956  Corvette  2016      240.0     28.0   49700         4  Uptown Cars   \n",
       "1957  Corvette  2016      335.0     20.5   66350         2     Car Town   \n",
       "1958  Corvette  2001      394.0     15.5  128000         4  Uptown Cars   \n",
       "1959  Corvette  2002      394.0     15.5  130000         2  Uptown Cars   \n",
       "1960  Corvette  2003      394.0     15.5  131500         3     Big Bobs   \n",
       "\n",
       "       sold_date  sold_month  \n",
       "0     2012-05-06           5  \n",
       "1     2011-05-16           5  \n",
       "2     2013-07-31           7  \n",
       "3     2014-07-05           7  \n",
       "4     2013-05-20           5  \n",
       "...          ...         ...  \n",
       "1956  2019-09-09           9  \n",
       "1957  2017-04-29           4  \n",
       "1958  2002-05-15           5  \n",
       "1959  2002-05-07           5  \n",
       "1960  2005-02-09           2  \n",
       "\n",
       "[1961 rows x 9 columns]"
      ]
     },
     "execution_count": 1,
     "metadata": {},
     "output_type": "execute_result"
    }
   ],
   "source": [
    "import pandas as pd\n",
    "\n",
    "car_sales_df = pd.read_csv(\"./car_data.csv\")\n",
    "car_sales_df"
   ]
  },
  {
   "cell_type": "code",
   "execution_count": 20,
   "metadata": {},
   "outputs": [
    {
     "name": "stdout",
     "output_type": "stream",
     "text": [
      "Month 5 had the most sales\n"
     ]
    }
   ],
   "source": [
    "# Which month generates the most sales?\n",
    "sales_agg_df = car_sales_df.groupby(['sold_month']).size()\n",
    "most_sold_month = sales_agg_df.idxmax()\n",
    "\n",
    "print(\"Month {} had the most sales\".format(most_sold_month))"
   ]
  },
  {
   "cell_type": "code",
   "execution_count": 23,
   "metadata": {},
   "outputs": [
    {
     "data": {
      "text/plain": [
       "<matplotlib.axes._subplots.AxesSubplot at 0x7f5a62b0d748>"
      ]
     },
     "execution_count": 23,
     "metadata": {},
     "output_type": "execute_result"
    },
    {
     "data": {
      "image/png": "[encoded data removed]",
      "text/plain": [
       "<Figure size 432x288 with 1 Axes>"
      ]
     },
     "metadata": {
      "needs_background": "light"
     },
     "output_type": "display_data"
    }
   ],
   "source": [
    "sales_agg_df.plot(kind=\"bar\", title= \"Sales per Month\")"
   ]
  },
  {
   "cell_type": "code",
   "execution_count": 44,
   "metadata": {},
   "outputs": [
    {
     "data": {
      "text/plain": [
       "<matplotlib.axes._subplots.AxesSubplot at 0x7f5a5fad2b70>"
      ]
     },
     "execution_count": 44,
     "metadata": {},
     "output_type": "execute_result"
    },
    {
     "data": {
      "image/png": "[encoded data removed]",
      "text/plain": [
       "<Figure size 432x288 with 1 Axes>"
      ]
     },
     "metadata": {
      "needs_background": "light"
     },
     "output_type": "display_data"
    }
   ],
   "source": [
    "color_list = ['b', 'g', 'r', 'y']\n",
    "salesman_sales_series = car_sales_df.groupby(['dealership', 'salesman',]).size().sort_values()\n",
    "best_salesman = salesman_sales_series.idxmax()\n",
    "\n",
    "salesman_sales_series.plot(kind='barh', color=color_list)"
   ]
  },
  {
   "cell_type": "code",
   "execution_count": 41,
   "metadata": {},
   "outputs": [
    {
     "name": "stdout",
     "output_type": "stream",
     "text": [
      "The best salesman is ('Uptown Cars', 3)\n"
     ]
    }
   ],
   "source": [
    "print(\"The best salesman is {}\".format(best_salesman))"
   ]
  },
  {
   "cell_type": "code",
   "execution_count": 48,
   "metadata": {},
   "outputs": [
    {
     "data": {
      "text/plain": [
       "<matplotlib.axes._subplots.AxesSubplot at 0x7f5a615aada0>"
      ]
     },
     "execution_count": 48,
     "metadata": {},
     "output_type": "execute_result"
    },
    {
     "data": {
      "image/png": "[encoded data removed]",
      "text/plain": [
       "<Figure size 432x288 with 1 Axes>"
      ]
     },
     "metadata": {},
     "output_type": "display_data"
    }
   ],
   "source": [
    "color_list = ['b', 'g', 'r', 'y']\n",
    "dealership_sales_series = car_sales_df.groupby(['dealership']).size().sort_values()\n",
    "best_dealership = dealership_sales_series.idxmax()\n",
    "\n",
    "dealership_sales_series.plot(kind='pie')"
   ]
  },
  {
   "cell_type": "code",
   "execution_count": 46,
   "metadata": {},
   "outputs": [
    {
     "name": "stdout",
     "output_type": "stream",
     "text": [
      "The best dealership is Uptown Cars\n"
     ]
    }
   ],
   "source": [
    "print(\"The best dealership is {}\".format(best_dealership))"
   ]
  },
  {
   "cell_type": "code",
   "execution_count": 67,
   "metadata": {},
   "outputs": [
    {
     "data": {
      "text/plain": [
       "<matplotlib.axes._subplots.AxesSubplot at 0x7f5a5ee76160>"
      ]
     },
     "execution_count": 67,
     "metadata": {},
     "output_type": "execute_result"
    },
    {
     "data": {
      "image/png": "[encoded data removed]",
      "text/plain": [
       "<Figure size 432x288 with 1 Axes>"
      ]
     },
     "metadata": {
      "needs_background": "light"
     },
     "output_type": "display_data"
    }
   ],
   "source": [
    "average_car_price = car_sales_df.groupby(['car', 'year']).mean()['price']\n",
    "average_car_price['Corvette'].plot(kind='bar')"
   ]
  },
  {
   "cell_type": "code",
   "execution_count": 80,
   "metadata": {},
   "outputs": [
    {
     "data": {
      "text/plain": [
       "118     270.0\n",
       "119     270.0\n",
       "120     270.0\n",
       "121     270.0\n",
       "122     270.0\n",
       "        ...  \n",
       "1931    106.0\n",
       "1932    106.0\n",
       "1933    106.0\n",
       "1934    106.0\n",
       "1935    106.0\n",
       "Name: engine_hp, Length: 746, dtype: float64"
      ]
     },
     "execution_count": 80,
     "metadata": {},
     "output_type": "execute_result"
    }
   ],
   "source": [
    "car_sales_df[car_sales_df.car.eq(\"Camaro\")][\"engine_hp\"]"
   ]
  },
  {
   "cell_type": "code",
   "execution_count": 83,
   "metadata": {},
   "outputs": [
    {
     "data": {
      "text/plain": [
       "<matplotlib.axes._subplots.AxesSubplot at 0x7f5a5e8c6b38>"
      ]
     },
     "execution_count": 83,
     "metadata": {},
     "output_type": "execute_result"
    },
    {
     "data": {
      "image/png": "[encoded data removed]",
      "text/plain": [
       "<Figure size 432x288 with 1 Axes>"
      ]
     },
     "metadata": {
      "needs_background": "light"
     },
     "output_type": "display_data"
    }
   ],
   "source": [
    "car_sales_df.boxplot(by='car', \n",
    "                       column=['engine_hp'], \n",
    "                       grid=False, vert=False)"
   ]
  },
  {
   "cell_type": "code",
   "execution_count": 85,
   "metadata": {},
   "outputs": [
    {
     "name": "stdout",
     "output_type": "stream",
     "text": [
      "Mustang has several points in the box plots far right upper quartile - ANOMALIES\n"
     ]
    }
   ],
   "source": [
    "print(\"Mustang has several points in the box plots far right upper quartile - ANOMALIES\")"
   ]
  }
 ],
 "metadata": {
  "kernelspec": {
   "display_name": "conda_python3",
   "language": "python",
   "name": "conda_python3"
  },
  "language_info": {
   "codemirror_mode": {
    "name": "ipython",
    "version": 3
   },
   "file_extension": ".py",
   "mimetype": "text/x-python",
   "name": "python",
   "nbconvert_exporter": "python",
   "pygments_lexer": "ipython3",
   "version": "3.6.10"
  }
 },
 "nbformat": 4,
 "nbformat_minor": 4
}
